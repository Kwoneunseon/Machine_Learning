{
 "cells": [
  {
   "cell_type": "markdown",
   "metadata": {},
   "source": [
    "## 5.1 인슐린 수치를 에측하기위해 데이터 셋 나누기"
   ]
  },
  {
   "cell_type": "code",
   "execution_count": 2,
   "metadata": {},
   "outputs": [],
   "source": [
    "#라이브러리\n",
    "import numpy as np\n",
    "import pandas as pd\n",
    "import seaborn as sns\n",
    "import matplotlib as plt"
   ]
  },
  {
   "cell_type": "code",
   "execution_count": 3,
   "metadata": {},
   "outputs": [
    {
     "data": {
      "text/plain": [
       "(768, 9)"
      ]
     },
     "execution_count": 3,
     "metadata": {},
     "output_type": "execute_result"
    }
   ],
   "source": [
    "df = pd.read_csv('./Data/diabetes.csv')\n",
    "df.shape"
   ]
  },
  {
   "cell_type": "code",
   "execution_count": 4,
   "metadata": {},
   "outputs": [
    {
     "data": {
      "text/html": [
       "<div>\n",
       "<style scoped>\n",
       "    .dataframe tbody tr th:only-of-type {\n",
       "        vertical-align: middle;\n",
       "    }\n",
       "\n",
       "    .dataframe tbody tr th {\n",
       "        vertical-align: top;\n",
       "    }\n",
       "\n",
       "    .dataframe thead th {\n",
       "        text-align: right;\n",
       "    }\n",
       "</style>\n",
       "<table border=\"1\" class=\"dataframe\">\n",
       "  <thead>\n",
       "    <tr style=\"text-align: right;\">\n",
       "      <th></th>\n",
       "      <th>Pregnancies</th>\n",
       "      <th>Glucose</th>\n",
       "      <th>BloodPressure</th>\n",
       "      <th>SkinThickness</th>\n",
       "      <th>Insulin</th>\n",
       "      <th>BMI</th>\n",
       "      <th>DiabetesPedigreeFunction</th>\n",
       "      <th>Age</th>\n",
       "      <th>Outcome</th>\n",
       "    </tr>\n",
       "  </thead>\n",
       "  <tbody>\n",
       "    <tr>\n",
       "      <th>0</th>\n",
       "      <td>6</td>\n",
       "      <td>148</td>\n",
       "      <td>72</td>\n",
       "      <td>35</td>\n",
       "      <td>0</td>\n",
       "      <td>33.6</td>\n",
       "      <td>0.627</td>\n",
       "      <td>50</td>\n",
       "      <td>1</td>\n",
       "    </tr>\n",
       "    <tr>\n",
       "      <th>1</th>\n",
       "      <td>1</td>\n",
       "      <td>85</td>\n",
       "      <td>66</td>\n",
       "      <td>29</td>\n",
       "      <td>0</td>\n",
       "      <td>26.6</td>\n",
       "      <td>0.351</td>\n",
       "      <td>31</td>\n",
       "      <td>0</td>\n",
       "    </tr>\n",
       "    <tr>\n",
       "      <th>2</th>\n",
       "      <td>8</td>\n",
       "      <td>183</td>\n",
       "      <td>64</td>\n",
       "      <td>0</td>\n",
       "      <td>0</td>\n",
       "      <td>23.3</td>\n",
       "      <td>0.672</td>\n",
       "      <td>32</td>\n",
       "      <td>1</td>\n",
       "    </tr>\n",
       "    <tr>\n",
       "      <th>3</th>\n",
       "      <td>1</td>\n",
       "      <td>89</td>\n",
       "      <td>66</td>\n",
       "      <td>23</td>\n",
       "      <td>94</td>\n",
       "      <td>28.1</td>\n",
       "      <td>0.167</td>\n",
       "      <td>21</td>\n",
       "      <td>0</td>\n",
       "    </tr>\n",
       "    <tr>\n",
       "      <th>4</th>\n",
       "      <td>0</td>\n",
       "      <td>137</td>\n",
       "      <td>40</td>\n",
       "      <td>35</td>\n",
       "      <td>168</td>\n",
       "      <td>43.1</td>\n",
       "      <td>2.288</td>\n",
       "      <td>33</td>\n",
       "      <td>1</td>\n",
       "    </tr>\n",
       "  </tbody>\n",
       "</table>\n",
       "</div>"
      ],
      "text/plain": [
       "   Pregnancies  Glucose  BloodPressure  SkinThickness  Insulin   BMI  \\\n",
       "0            6      148             72             35        0  33.6   \n",
       "1            1       85             66             29        0  26.6   \n",
       "2            8      183             64              0        0  23.3   \n",
       "3            1       89             66             23       94  28.1   \n",
       "4            0      137             40             35      168  43.1   \n",
       "\n",
       "   DiabetesPedigreeFunction  Age  Outcome  \n",
       "0                     0.627   50        1  \n",
       "1                     0.351   31        0  \n",
       "2                     0.672   32        1  \n",
       "3                     0.167   21        0  \n",
       "4                     2.288   33        1  "
      ]
     },
     "execution_count": 4,
     "metadata": {},
     "output_type": "execute_result"
    }
   ],
   "source": [
    "df.head()"
   ]
  },
  {
   "cell_type": "code",
   "execution_count": 5,
   "metadata": {},
   "outputs": [
    {
     "data": {
      "text/plain": [
       "True     394\n",
       "False    374\n",
       "Name: Insulin, dtype: int64"
      ]
     },
     "execution_count": 5,
     "metadata": {},
     "output_type": "execute_result"
    }
   ],
   "source": [
    "## 학습, 예측 데이터셋 나누기\n",
    "(df['Insulin']>0).value_counts()"
   ]
  },
  {
   "cell_type": "code",
   "execution_count": 6,
   "metadata": {},
   "outputs": [
    {
     "data": {
      "text/plain": [
       "(394, 9)"
      ]
     },
     "execution_count": 6,
     "metadata": {},
     "output_type": "execute_result"
    }
   ],
   "source": [
    "train = df[df['Insulin']>0].copy()\n",
    "train.shape"
   ]
  },
  {
   "cell_type": "code",
   "execution_count": 7,
   "metadata": {},
   "outputs": [
    {
     "data": {
      "text/plain": [
       "(374, 9)"
      ]
     },
     "execution_count": 7,
     "metadata": {},
     "output_type": "execute_result"
    }
   ],
   "source": [
    "test = df[df['Insulin']==0].copy()\n",
    "test.shape"
   ]
  },
  {
   "cell_type": "markdown",
   "metadata": {},
   "source": [
    "### EDA\n",
    " - 이상치 제거하기"
   ]
  },
  {
   "cell_type": "code",
   "execution_count": 8,
   "metadata": {},
   "outputs": [
    {
     "name": "stderr",
     "output_type": "stream",
     "text": [
      "C:\\anaconda3\\lib\\site-packages\\seaborn\\distributions.py:2557: FutureWarning: `distplot` is a deprecated function and will be removed in a future version. Please adapt your code to use either `displot` (a figure-level function with similar flexibility) or `histplot` (an axes-level function for histograms).\n",
      "  warnings.warn(msg, FutureWarning)\n"
     ]
    },
    {
     "data": {
      "text/plain": [
       "<AxesSubplot:xlabel='Insulin', ylabel='Density'>"
      ]
     },
     "execution_count": 8,
     "metadata": {},
     "output_type": "execute_result"
    },
    {
     "data": {
      "image/png": "[encoded data removed]",
      "text/plain": [
       "<Figure size 432x288 with 1 Axes>"
      ]
     },
     "metadata": {
      "needs_background": "light"
     },
     "output_type": "display_data"
    }
   ],
   "source": [
    "sns.distplot(train['Insulin'])"
   ]
  },
  {
   "cell_type": "code",
   "execution_count": 9,
   "metadata": {},
   "outputs": [
    {
     "name": "stderr",
     "output_type": "stream",
     "text": [
      "C:\\anaconda3\\lib\\site-packages\\seaborn\\_decorators.py:36: FutureWarning: Pass the following variable as a keyword arg: x. From version 0.12, the only valid positional argument will be `data`, and passing other arguments without an explicit keyword will result in an error or misinterpretation.\n",
      "  warnings.warn(\n"
     ]
    },
    {
     "data": {
      "text/plain": [
       "<AxesSubplot:xlabel='Insulin'>"
      ]
     },
     "execution_count": 9,
     "metadata": {},
     "output_type": "execute_result"
    },
    {
     "data": {
      "image/png": "[encoded data removed]",
      "text/plain": [
       "<Figure size 432x288 with 1 Axes>"
      ]
     },
     "metadata": {
      "needs_background": "light"
     },
     "output_type": "display_data"
    }
   ],
   "source": [
    "sns.boxplot(train['Insulin'])"
   ]
  },
  {
   "cell_type": "code",
   "execution_count": 10,
   "metadata": {},
   "outputs": [
    {
     "data": {
      "text/plain": [
       "count    394.000000\n",
       "mean     155.548223\n",
       "std      118.775855\n",
       "min       14.000000\n",
       "25%       76.250000\n",
       "50%      125.000000\n",
       "75%      190.000000\n",
       "max      846.000000\n",
       "Name: Insulin, dtype: float64"
      ]
     },
     "execution_count": 10,
     "metadata": {},
     "output_type": "execute_result"
    }
   ],
   "source": [
    "desc = train['Insulin'].describe()\n",
    "desc"
   ]
  },
  {
   "cell_type": "code",
   "execution_count": 11,
   "metadata": {},
   "outputs": [],
   "source": [
    "#이상치 구하기\n",
    "# IQR = 3IQR - 1IQR\n",
    "# 이상치  = 3IQR + (1.5 * IQR)\n",
    "\n",
    "IQR = desc.loc['75%'] - desc.loc['25%']\n",
    "OUT = desc.loc['75%'] + (IQR *1.5)"
   ]
  },
  {
   "cell_type": "code",
   "execution_count": 12,
   "metadata": {},
   "outputs": [
    {
     "data": {
      "text/plain": [
       "(24, 9)"
      ]
     },
     "execution_count": 12,
     "metadata": {},
     "output_type": "execute_result"
    }
   ],
   "source": [
    "#이상치 값이 몇개인지확인\n",
    "train[train['Insulin']>OUT].shape"
   ]
  },
  {
   "cell_type": "code",
   "execution_count": 13,
   "metadata": {},
   "outputs": [
    {
     "data": {
      "text/plain": [
       "(390, 9)"
      ]
     },
     "execution_count": 13,
     "metadata": {},
     "output_type": "execute_result"
    }
   ],
   "source": [
    "#24개를 제거하면 train세트가 적어지기 때문에 먼저 600이상의 이상치만 제거\n",
    "train = train[train['Insulin']<600]\n",
    "train.shape"
   ]
  },
  {
   "cell_type": "code",
   "execution_count": 14,
   "metadata": {},
   "outputs": [
    {
     "data": {
      "text/plain": [
       "(370, 9)"
      ]
     },
     "execution_count": 14,
     "metadata": {},
     "output_type": "execute_result"
    }
   ],
   "source": [
    "# 이상치를 제거할 경우\n",
    "train = train[train['Insulin']<OUT]\n",
    "train.shape"
   ]
  },
  {
   "cell_type": "code",
   "execution_count": 15,
   "metadata": {},
   "outputs": [
    {
     "data": {
      "text/plain": [
       "['Pregnancies',\n",
       " 'Glucose',\n",
       " 'BloodPressure',\n",
       " 'SkinThickness',\n",
       " 'BMI',\n",
       " 'DiabetesPedigreeFunction',\n",
       " 'Age',\n",
       " 'Outcome']"
      ]
     },
     "execution_count": 15,
     "metadata": {},
     "output_type": "execute_result"
    }
   ],
   "source": [
    "##학습, 예측에 사용할 컬럼\n",
    "df.columns\n",
    "feature_names = df.columns.tolist()\n",
    "feature_names.remove('Insulin')\n",
    "feature_names"
   ]
  },
  {
   "cell_type": "code",
   "execution_count": 16,
   "metadata": {},
   "outputs": [
    {
     "data": {
      "text/plain": [
       "'Insulin'"
      ]
     },
     "execution_count": 16,
     "metadata": {},
     "output_type": "execute_result"
    }
   ],
   "source": [
    "#예측할 값 정하기\n",
    "label_name = 'Insulin'\n",
    "label_name"
   ]
  },
  {
   "cell_type": "code",
   "execution_count": 17,
   "metadata": {},
   "outputs": [
    {
     "data": {
      "text/plain": [
       "(370, 8)"
      ]
     },
     "execution_count": 17,
     "metadata": {},
     "output_type": "execute_result"
    }
   ],
   "source": [
    "#학습데이터와 예측 데이터 나누기\n",
    "X_train = train[feature_names]\n",
    "X_train.shape"
   ]
  },
  {
   "cell_type": "code",
   "execution_count": 18,
   "metadata": {},
   "outputs": [
    {
     "data": {
      "text/plain": [
       "(370,)"
      ]
     },
     "execution_count": 18,
     "metadata": {},
     "output_type": "execute_result"
    }
   ],
   "source": [
    "y_train =train[label_name]\n",
    "y_train.shape"
   ]
  },
  {
   "cell_type": "code",
   "execution_count": 19,
   "metadata": {},
   "outputs": [
    {
     "data": {
      "text/plain": [
       "(374, 8)"
      ]
     },
     "execution_count": 19,
     "metadata": {},
     "output_type": "execute_result"
    }
   ],
   "source": [
    "#예측데이터\n",
    "X_test = test[feature_names]\n",
    "X_test.shape"
   ]
  },
  {
   "cell_type": "code",
   "execution_count": 20,
   "metadata": {},
   "outputs": [
    {
     "data": {
      "text/plain": [
       "(374,)"
      ]
     },
     "execution_count": 20,
     "metadata": {},
     "output_type": "execute_result"
    }
   ],
   "source": [
    "y_test= test[label_name]\n",
    "y_test.shape"
   ]
  },
  {
   "cell_type": "markdown",
   "metadata": {},
   "source": [
    "#### 머신러닝 알고리즘 가져오기"
   ]
  },
  {
   "cell_type": "code",
   "execution_count": 21,
   "metadata": {},
   "outputs": [
    {
     "data": {
      "text/plain": [
       "DecisionTreeRegressor(random_state=42)"
      ]
     },
     "execution_count": 21,
     "metadata": {},
     "output_type": "execute_result"
    }
   ],
   "source": [
    "from sklearn.tree import DecisionTreeRegressor\n",
    "\n",
    "model = DecisionTreeRegressor(random_state = 42)\n",
    "model"
   ]
  },
  {
   "cell_type": "code",
   "execution_count": 22,
   "metadata": {},
   "outputs": [
    {
     "data": {
      "text/plain": [
       "DecisionTreeRegressor(random_state=42)"
      ]
     },
     "execution_count": 22,
     "metadata": {},
     "output_type": "execute_result"
    }
   ],
   "source": [
    "model.fit(X_train,y_train)"
   ]
  },
  {
   "cell_type": "code",
   "execution_count": 23,
   "metadata": {},
   "outputs": [
    {
     "name": "stderr",
     "output_type": "stream",
     "text": [
      "[Parallel(n_jobs=-1)]: Using backend LokyBackend with 8 concurrent workers.\n",
      "[Parallel(n_jobs=-1)]: Done   2 out of   5 | elapsed:    4.9s remaining:    7.4s\n",
      "[Parallel(n_jobs=-1)]: Done   5 out of   5 | elapsed:    5.0s remaining:    0.0s\n",
      "[Parallel(n_jobs=-1)]: Done   5 out of   5 | elapsed:    5.0s finished\n"
     ]
    },
    {
     "data": {
      "text/plain": [
       "array([ 25., 182.,  55., 144., 220.,  83., 176., 310.,  90., 120.])"
      ]
     },
     "execution_count": 23,
     "metadata": {},
     "output_type": "execute_result"
    }
   ],
   "source": [
    "#Cross Validation으로 학습세트의 오차를 측정한다.\n",
    "\n",
    "from sklearn.model_selection import cross_val_predict\n",
    "\n",
    "y_predict  = cross_val_predict(model, X_train, y_train, cv=5, verbose = 2, n_jobs =-1)\n",
    "y_predict[:10]"
   ]
  },
  {
   "cell_type": "markdown",
   "metadata": {},
   "source": [
    " - cv : 테스트를 몇번 반복할지 \n",
    "     - cv가 많으면 많을수록 시간이 오래걸리지만 정확도가 높아진다\n",
    "     \n",
    " - verbose : 로그를 표시할지 말지\n",
    " "
   ]
  },
  {
   "cell_type": "code",
   "execution_count": 24,
   "metadata": {},
   "outputs": [
    {
     "data": {
      "text/plain": [
       "7"
      ]
     },
     "execution_count": 24,
     "metadata": {},
     "output_type": "execute_result"
    }
   ],
   "source": [
    "#정답을 정확하게 맞추 개수\n",
    "(y_predict == y_train).sum()"
   ]
  },
  {
   "cell_type": "code",
   "execution_count": 25,
   "metadata": {},
   "outputs": [
    {
     "name": "stderr",
     "output_type": "stream",
     "text": [
      "C:\\anaconda3\\lib\\site-packages\\seaborn\\_decorators.py:36: FutureWarning: Pass the following variables as keyword args: x, y. From version 0.12, the only valid positional argument will be `data`, and passing other arguments without an explicit keyword will result in an error or misinterpretation.\n",
      "  warnings.warn(\n"
     ]
    },
    {
     "data": {
      "text/plain": [
       "<AxesSubplot:xlabel='Insulin'>"
      ]
     },
     "execution_count": 25,
     "metadata": {},
     "output_type": "execute_result"
    },
    {
     "data": {
      "image/png": "[encoded data removed]",
      "text/plain": [
       "<Figure size 432x288 with 1 Axes>"
      ]
     },
     "metadata": {
      "needs_background": "light"
     },
     "output_type": "display_data"
    }
   ],
   "source": [
    "sns.regplot(y_train, y_predict)\n",
    "#200미만의 값은 예측을 잘 했지만 200 이상의 값들은 실제값과 예측값의 차이가 크다\n",
    "#기울기로 보면 된다."
   ]
  },
  {
   "cell_type": "code",
   "execution_count": 26,
   "metadata": {},
   "outputs": [
    {
     "data": {
      "text/plain": [
       "-0.28551906710833275"
      ]
     },
     "execution_count": 26,
     "metadata": {},
     "output_type": "execute_result"
    }
   ],
   "source": [
    "from sklearn.metrics import r2_score\n",
    "r2_score(y_train, y_predict)\n",
    "#회귀가 잘 되었는지 측정하는 함수\n",
    "#1에 가까워야 잘 예측한 것이다."
   ]
  },
  {
   "cell_type": "code",
   "execution_count": 27,
   "metadata": {},
   "outputs": [
    {
     "name": "stderr",
     "output_type": "stream",
     "text": [
      "C:\\anaconda3\\lib\\site-packages\\seaborn\\distributions.py:2557: FutureWarning: `distplot` is a deprecated function and will be removed in a future version. Please adapt your code to use either `displot` (a figure-level function with similar flexibility) or `kdeplot` (an axes-level function for kernel density plots).\n",
      "  warnings.warn(msg, FutureWarning)\n",
      "C:\\anaconda3\\lib\\site-packages\\seaborn\\distributions.py:2557: FutureWarning: `distplot` is a deprecated function and will be removed in a future version. Please adapt your code to use either `displot` (a figure-level function with similar flexibility) or `kdeplot` (an axes-level function for kernel density plots).\n",
      "  warnings.warn(msg, FutureWarning)\n"
     ]
    },
    {
     "data": {
      "text/plain": [
       "<AxesSubplot:xlabel='Insulin', ylabel='Density'>"
      ]
     },
     "execution_count": 27,
     "metadata": {},
     "output_type": "execute_result"
    },
    {
     "data": {
      "image/png": "[encoded data removed]",
      "text/plain": [
       "<Figure size 432x288 with 1 Axes>"
      ]
     },
     "metadata": {
      "needs_background": "light"
     },
     "output_type": "display_data"
    }
   ],
   "source": [
    "sns.distplot(y_train,hist = False, label ='train')\n",
    "sns.distplot(y_predict , hist = False,label ='test')"
   ]
  },
  {
   "cell_type": "markdown",
   "metadata": {},
   "source": [
    "## RandomizedSearchCV로 최적의 파라미트 찾기"
   ]
  },
  {
   "cell_type": "code",
   "execution_count": 49,
   "metadata": {},
   "outputs": [
    {
     "data": {
      "text/plain": [
       "[DecisionTreeRegressor(random_state=42),\n",
       " RandomForestRegressor(random_state=42),\n",
       " GradientBoostingRegressor(random_state=42)]"
      ]
     },
     "execution_count": 49,
     "metadata": {},
     "output_type": "execute_result"
    }
   ],
   "source": [
    "from sklearn.tree import DecisionTreeRegressor\n",
    "from sklearn.ensemble import RandomForestRegressor, GradientBoostingRegressor\n",
    "\n",
    "estimators =[DecisionTreeRegressor(random_state =42),\n",
    "            RandomForestRegressor(random_state = 42),\n",
    "            GradientBoostingRegressor(random_state = 42)]\n",
    "\n",
    "estimators\n",
    "\n"
   ]
  },
  {
   "cell_type": "code",
   "execution_count": 52,
   "metadata": {},
   "outputs": [
    {
     "data": {
      "text/html": [
       "<div>\n",
       "<style scoped>\n",
       "    .dataframe tbody tr th:only-of-type {\n",
       "        vertical-align: middle;\n",
       "    }\n",
       "\n",
       "    .dataframe tbody tr th {\n",
       "        vertical-align: top;\n",
       "    }\n",
       "\n",
       "    .dataframe thead th {\n",
       "        text-align: right;\n",
       "    }\n",
       "</style>\n",
       "<table border=\"1\" class=\"dataframe\">\n",
       "  <thead>\n",
       "    <tr style=\"text-align: right;\">\n",
       "      <th></th>\n",
       "      <th>0</th>\n",
       "    </tr>\n",
       "  </thead>\n",
       "  <tbody>\n",
       "    <tr>\n",
       "      <th>0</th>\n",
       "      <td>DecisionTreeRegressor</td>\n",
       "    </tr>\n",
       "    <tr>\n",
       "      <th>1</th>\n",
       "      <td>RandomForestRegressor</td>\n",
       "    </tr>\n",
       "    <tr>\n",
       "      <th>2</th>\n",
       "      <td>GradientBoostingRegressor</td>\n",
       "    </tr>\n",
       "  </tbody>\n",
       "</table>\n",
       "</div>"
      ],
      "text/plain": [
       "                           0\n",
       "0      DecisionTreeRegressor\n",
       "1      RandomForestRegressor\n",
       "2  GradientBoostingRegressor"
      ]
     },
     "execution_count": 52,
     "metadata": {},
     "output_type": "execute_result"
    }
   ],
   "source": [
    "results = []\n",
    "for estimator in estimators :\n",
    "    result =[]\n",
    "    result.append(estimator.__class__.__name__)\n",
    "    results.append(result)\n",
    "    \n",
    "pd.DataFrame(results)"
   ]
  },
  {
   "cell_type": "code",
   "execution_count": 40,
   "metadata": {},
   "outputs": [
    {
     "data": {
      "text/plain": [
       "array([18, 26, 28, 23, 24, 19, 18, 28, 23, 12])"
      ]
     },
     "execution_count": 40,
     "metadata": {},
     "output_type": "execute_result"
    }
   ],
   "source": [
    "max_depth = np.random.randint(5,30,10)\n",
    "max_depth"
   ]
  },
  {
   "cell_type": "code",
   "execution_count": 41,
   "metadata": {},
   "outputs": [
    {
     "data": {
      "text/plain": [
       "array([0.24228391, 0.37570513, 0.21351444, 0.43293896, 0.44587311,\n",
       "       0.74567532, 0.56444778, 0.56997619, 0.59130783, 0.23171237])"
      ]
     },
     "execution_count": 41,
     "metadata": {},
     "output_type": "execute_result"
    }
   ],
   "source": [
    "max_features = np.random.uniform(0.2,1.0,10)\n",
    "max_features"
   ]
  },
  {
   "cell_type": "code",
   "execution_count": 57,
   "metadata": {
    "scrolled": false
   },
   "outputs": [
    {
     "name": "stdout",
     "output_type": "stream",
     "text": [
      "Fitting 5 folds for each of 10 candidates, totalling 50 fits\n",
      "[CV] max_features=0.4977878705639245, max_depth=6 ....................\n",
      "[CV] ..... max_features=0.4977878705639245, max_depth=6, total=   0.0s\n",
      "[CV] max_features=0.4977878705639245, max_depth=6 ....................\n",
      "[CV] ..... max_features=0.4977878705639245, max_depth=6, total=   0.0s\n",
      "[CV] max_features=0.4977878705639245, max_depth=6 ....................\n",
      "[CV] ..... max_features=0.4977878705639245, max_depth=6, total=   0.0s\n",
      "[CV] max_features=0.4977878705639245, max_depth=6 ....................\n",
      "[CV] ..... max_features=0.4977878705639245, max_depth=6, total=   0.0s\n",
      "[CV] max_features=0.4977878705639245, max_depth=6 ....................\n",
      "[CV] ..... max_features=0.4977878705639245, max_depth=6, total=   0.0s\n",
      "[CV] max_features=0.4977878705639245, max_depth=11 ...................\n",
      "[CV] .... max_features=0.4977878705639245, max_depth=11, total=   0.0s\n",
      "[CV] max_features=0.4977878705639245, max_depth=11 ...................\n",
      "[CV] .... max_features=0.4977878705639245, max_depth=11, total=   0.0s\n",
      "[CV] max_features=0.4977878705639245, max_depth=11 ...................\n",
      "[CV] .... max_features=0.4977878705639245, max_depth=11, total=   0.0s\n",
      "[CV] max_features=0.4977878705639245, max_depth=11 ...................\n",
      "[CV] .... max_features=0.4977878705639245, max_depth=11, total=   0.0s\n",
      "[CV] max_features=0.4977878705639245, max_depth=11 ...................\n",
      "[CV] .... max_features=0.4977878705639245, max_depth=11, total=   0.0s\n",
      "[CV] max_features=0.5877472557098951, max_depth=29 ...................\n",
      "[CV] .... max_features=0.5877472557098951, max_depth=29, total=   0.0s\n",
      "[CV] max_features=0.5877472557098951, max_depth=29 ...................\n",
      "[CV] .... max_features=0.5877472557098951, max_depth=29, total=   0.0s\n",
      "[CV] max_features=0.5877472557098951, max_depth=29 ...................\n",
      "[CV] .... max_features=0.5877472557098951, max_depth=29, total=   0.0s\n",
      "[CV] max_features=0.5877472557098951, max_depth=29 ...................\n",
      "[CV] .... max_features=0.5877472557098951, max_depth=29, total=   0.0s\n",
      "[CV] max_features=0.5877472557098951, max_depth=29 ...................\n",
      "[CV] .... max_features=0.5877472557098951, max_depth=29, total=   0.0s\n",
      "[CV] max_features=0.9523154789135921, max_depth=5 ....................\n",
      "[CV] ..... max_features=0.9523154789135921, max_depth=5, total=   0.0s\n",
      "[CV] max_features=0.9523154789135921, max_depth=5 ....................\n",
      "[CV] ..... max_features=0.9523154789135921, max_depth=5, total=   0.0s\n",
      "[CV] max_features=0.9523154789135921, max_depth=5 ....................\n",
      "[CV] ..... max_features=0.9523154789135921, max_depth=5, total=   0.0s\n",
      "[CV] max_features=0.9523154789135921, max_depth=5 ....................\n",
      "[CV] ..... max_features=0.9523154789135921, max_depth=5, total=   0.0s\n",
      "[CV] max_features=0.9523154789135921, max_depth=5 ....................\n",
      "[CV] ..... max_features=0.9523154789135921, max_depth=5, total=   0.0s\n",
      "[CV] max_features=0.9338253088073094, max_depth=5 ....................\n",
      "[CV] ..... max_features=0.9338253088073094, max_depth=5, total=   0.0s\n",
      "[CV] max_features=0.9338253088073094, max_depth=5 ....................\n",
      "[CV] ..... max_features=0.9338253088073094, max_depth=5, total=   0.0s\n",
      "[CV] max_features=0.9338253088073094, max_depth=5 ....................\n",
      "[CV] ..... max_features=0.9338253088073094, max_depth=5, total=   0.0s\n",
      "[CV] max_features=0.9338253088073094, max_depth=5 ....................\n"
     ]
    },
    {
     "name": "stderr",
     "output_type": "stream",
     "text": [
      "[Parallel(n_jobs=1)]: Using backend SequentialBackend with 1 concurrent workers.\n",
      "[Parallel(n_jobs=1)]: Done   1 out of   1 | elapsed:    0.0s remaining:    0.0s\n"
     ]
    },
    {
     "name": "stdout",
     "output_type": "stream",
     "text": [
      "[CV] ..... max_features=0.9338253088073094, max_depth=5, total=   0.0s\n",
      "[CV] max_features=0.9338253088073094, max_depth=5 ....................\n",
      "[CV] ..... max_features=0.9338253088073094, max_depth=5, total=   0.0s\n",
      "[CV] max_features=0.3181952112475026, max_depth=26 ...................\n",
      "[CV] .... max_features=0.3181952112475026, max_depth=26, total=   0.0s\n",
      "[CV] max_features=0.3181952112475026, max_depth=26 ...................\n",
      "[CV] .... max_features=0.3181952112475026, max_depth=26, total=   0.0s\n",
      "[CV] max_features=0.3181952112475026, max_depth=26 ...................\n",
      "[CV] .... max_features=0.3181952112475026, max_depth=26, total=   0.0s\n",
      "[CV] max_features=0.3181952112475026, max_depth=26 ...................\n",
      "[CV] .... max_features=0.3181952112475026, max_depth=26, total=   0.0s\n",
      "[CV] max_features=0.3181952112475026, max_depth=26 ...................\n",
      "[CV] .... max_features=0.3181952112475026, max_depth=26, total=   0.0s\n",
      "[CV] max_features=0.23510267457495868, max_depth=8 ...................\n",
      "[CV] .... max_features=0.23510267457495868, max_depth=8, total=   0.0s\n",
      "[CV] max_features=0.23510267457495868, max_depth=8 ...................\n",
      "[CV] .... max_features=0.23510267457495868, max_depth=8, total=   0.0s\n",
      "[CV] max_features=0.23510267457495868, max_depth=8 ...................\n",
      "[CV] .... max_features=0.23510267457495868, max_depth=8, total=   0.0s\n",
      "[CV] max_features=0.23510267457495868, max_depth=8 ...................\n",
      "[CV] .... max_features=0.23510267457495868, max_depth=8, total=   0.0s\n",
      "[CV] max_features=0.23510267457495868, max_depth=8 ...................\n",
      "[CV] .... max_features=0.23510267457495868, max_depth=8, total=   0.0s\n",
      "[CV] max_features=0.5877472557098951, max_depth=6 ....................\n",
      "[CV] ..... max_features=0.5877472557098951, max_depth=6, total=   0.0s\n",
      "[CV] max_features=0.5877472557098951, max_depth=6 ....................\n",
      "[CV] ..... max_features=0.5877472557098951, max_depth=6, total=   0.0s\n",
      "[CV] max_features=0.5877472557098951, max_depth=6 ....................\n",
      "[CV] ..... max_features=0.5877472557098951, max_depth=6, total=   0.0s\n",
      "[CV] max_features=0.5877472557098951, max_depth=6 ....................\n",
      "[CV] ..... max_features=0.5877472557098951, max_depth=6, total=   0.0s\n",
      "[CV] max_features=0.5877472557098951, max_depth=6 ....................\n",
      "[CV] ..... max_features=0.5877472557098951, max_depth=6, total=   0.0s\n",
      "[CV] max_features=0.5877472557098951, max_depth=27 ...................\n",
      "[CV] .... max_features=0.5877472557098951, max_depth=27, total=   0.0s\n",
      "[CV] max_features=0.5877472557098951, max_depth=27 ...................\n",
      "[CV] .... max_features=0.5877472557098951, max_depth=27, total=   0.0s\n",
      "[CV] max_features=0.5877472557098951, max_depth=27 ...................\n",
      "[CV] .... max_features=0.5877472557098951, max_depth=27, total=   0.0s\n",
      "[CV] max_features=0.5877472557098951, max_depth=27 ...................\n",
      "[CV] .... max_features=0.5877472557098951, max_depth=27, total=   0.0s\n",
      "[CV] max_features=0.5877472557098951, max_depth=27 ...................\n",
      "[CV] .... max_features=0.5877472557098951, max_depth=27, total=   0.0s\n",
      "[CV] max_features=0.5877472557098951, max_depth=6 ....................\n",
      "[CV] ..... max_features=0.5877472557098951, max_depth=6, total=   0.0s\n",
      "[CV] max_features=0.5877472557098951, max_depth=6 ....................\n",
      "[CV] ..... max_features=0.5877472557098951, max_depth=6, total=   0.0s\n",
      "[CV] max_features=0.5877472557098951, max_depth=6 ....................\n",
      "[CV] ..... max_features=0.5877472557098951, max_depth=6, total=   0.0s\n",
      "[CV] max_features=0.5877472557098951, max_depth=6 ....................\n",
      "[CV] ..... max_features=0.5877472557098951, max_depth=6, total=   0.0s\n",
      "[CV] max_features=0.5877472557098951, max_depth=6 ....................\n",
      "[CV] ..... max_features=0.5877472557098951, max_depth=6, total=   0.0s\n",
      "Fitting 5 folds for each of 10 candidates, totalling 50 fits\n",
      "[CV] max_features=0.9663937394651805, max_depth=26 ...................\n"
     ]
    },
    {
     "name": "stderr",
     "output_type": "stream",
     "text": [
      "[Parallel(n_jobs=1)]: Done  50 out of  50 | elapsed:    0.3s finished\n",
      "[Parallel(n_jobs=1)]: Using backend SequentialBackend with 1 concurrent workers.\n"
     ]
    },
    {
     "name": "stdout",
     "output_type": "stream",
     "text": [
      "[CV] .... max_features=0.9663937394651805, max_depth=26, total=   0.2s\n",
      "[CV] max_features=0.9663937394651805, max_depth=26 ...................\n",
      "[CV] .... max_features=0.9663937394651805, max_depth=26, total=   0.2s\n",
      "[CV] max_features=0.9663937394651805, max_depth=26 ...................\n"
     ]
    },
    {
     "name": "stderr",
     "output_type": "stream",
     "text": [
      "[Parallel(n_jobs=1)]: Done   1 out of   1 | elapsed:    0.1s remaining:    0.0s\n"
     ]
    },
    {
     "name": "stdout",
     "output_type": "stream",
     "text": [
      "[CV] .... max_features=0.9663937394651805, max_depth=26, total=   0.2s\n",
      "[CV] max_features=0.9663937394651805, max_depth=26 ...................\n",
      "[CV] .... max_features=0.9663937394651805, max_depth=26, total=   0.3s\n",
      "[CV] max_features=0.9663937394651805, max_depth=26 ...................\n",
      "[CV] .... max_features=0.9663937394651805, max_depth=26, total=   0.2s\n",
      "[CV] max_features=0.9663937394651805, max_depth=13 ...................\n",
      "[CV] .... max_features=0.9663937394651805, max_depth=13, total=   0.2s\n",
      "[CV] max_features=0.9663937394651805, max_depth=13 ...................\n",
      "[CV] .... max_features=0.9663937394651805, max_depth=13, total=   0.2s\n",
      "[CV] max_features=0.9663937394651805, max_depth=13 ...................\n",
      "[CV] .... max_features=0.9663937394651805, max_depth=13, total=   0.2s\n",
      "[CV] max_features=0.9663937394651805, max_depth=13 ...................\n",
      "[CV] .... max_features=0.9663937394651805, max_depth=13, total=   0.2s\n",
      "[CV] max_features=0.9663937394651805, max_depth=13 ...................\n",
      "[CV] .... max_features=0.9663937394651805, max_depth=13, total=   0.2s\n",
      "[CV] max_features=0.2393569005729641, max_depth=22 ...................\n",
      "[CV] .... max_features=0.2393569005729641, max_depth=22, total=   0.2s\n",
      "[CV] max_features=0.2393569005729641, max_depth=22 ...................\n",
      "[CV] .... max_features=0.2393569005729641, max_depth=22, total=   0.2s\n",
      "[CV] max_features=0.2393569005729641, max_depth=22 ...................\n",
      "[CV] .... max_features=0.2393569005729641, max_depth=22, total=   0.2s\n",
      "[CV] max_features=0.2393569005729641, max_depth=22 ...................\n",
      "[CV] .... max_features=0.2393569005729641, max_depth=22, total=   0.2s\n",
      "[CV] max_features=0.2393569005729641, max_depth=22 ...................\n",
      "[CV] .... max_features=0.2393569005729641, max_depth=22, total=   0.3s\n",
      "[CV] max_features=0.8924568495208267, max_depth=26 ...................\n",
      "[CV] .... max_features=0.8924568495208267, max_depth=26, total=   0.3s\n",
      "[CV] max_features=0.8924568495208267, max_depth=26 ...................\n",
      "[CV] .... max_features=0.8924568495208267, max_depth=26, total=   0.2s\n",
      "[CV] max_features=0.8924568495208267, max_depth=26 ...................\n",
      "[CV] .... max_features=0.8924568495208267, max_depth=26, total=   0.2s\n",
      "[CV] max_features=0.8924568495208267, max_depth=26 ...................\n",
      "[CV] .... max_features=0.8924568495208267, max_depth=26, total=   0.2s\n",
      "[CV] max_features=0.8924568495208267, max_depth=26 ...................\n",
      "[CV] .... max_features=0.8924568495208267, max_depth=26, total=   0.2s\n",
      "[CV] max_features=0.5995194747219852, max_depth=26 ...................\n",
      "[CV] .... max_features=0.5995194747219852, max_depth=26, total=   0.2s\n",
      "[CV] max_features=0.5995194747219852, max_depth=26 ...................\n",
      "[CV] .... max_features=0.5995194747219852, max_depth=26, total=   0.2s\n",
      "[CV] max_features=0.5995194747219852, max_depth=26 ...................\n",
      "[CV] .... max_features=0.5995194747219852, max_depth=26, total=   0.2s\n",
      "[CV] max_features=0.5995194747219852, max_depth=26 ...................\n",
      "[CV] .... max_features=0.5995194747219852, max_depth=26, total=   0.2s\n",
      "[CV] max_features=0.5995194747219852, max_depth=26 ...................\n",
      "[CV] .... max_features=0.5995194747219852, max_depth=26, total=   0.2s\n",
      "[CV] max_features=0.40627984827293845, max_depth=18 ..................\n",
      "[CV] ... max_features=0.40627984827293845, max_depth=18, total=   0.2s\n",
      "[CV] max_features=0.40627984827293845, max_depth=18 ..................\n",
      "[CV] ... max_features=0.40627984827293845, max_depth=18, total=   0.2s\n",
      "[CV] max_features=0.40627984827293845, max_depth=18 ..................\n",
      "[CV] ... max_features=0.40627984827293845, max_depth=18, total=   0.2s\n",
      "[CV] max_features=0.40627984827293845, max_depth=18 ..................\n",
      "[CV] ... max_features=0.40627984827293845, max_depth=18, total=   0.2s\n",
      "[CV] max_features=0.40627984827293845, max_depth=18 ..................\n",
      "[CV] ... max_features=0.40627984827293845, max_depth=18, total=   0.2s\n",
      "[CV] max_features=0.8498150703406142, max_depth=14 ...................\n",
      "[CV] .... max_features=0.8498150703406142, max_depth=14, total=   0.2s\n",
      "[CV] max_features=0.8498150703406142, max_depth=14 ...................\n",
      "[CV] .... max_features=0.8498150703406142, max_depth=14, total=   0.2s\n",
      "[CV] max_features=0.8498150703406142, max_depth=14 ...................\n",
      "[CV] .... max_features=0.8498150703406142, max_depth=14, total=   0.2s\n",
      "[CV] max_features=0.8498150703406142, max_depth=14 ...................\n",
      "[CV] .... max_features=0.8498150703406142, max_depth=14, total=   0.2s\n",
      "[CV] max_features=0.8498150703406142, max_depth=14 ...................\n",
      "[CV] .... max_features=0.8498150703406142, max_depth=14, total=   0.3s\n",
      "[CV] max_features=0.2393569005729641, max_depth=26 ...................\n",
      "[CV] .... max_features=0.2393569005729641, max_depth=26, total=   0.2s\n",
      "[CV] max_features=0.2393569005729641, max_depth=26 ...................\n",
      "[CV] .... max_features=0.2393569005729641, max_depth=26, total=   0.2s\n",
      "[CV] max_features=0.2393569005729641, max_depth=26 ...................\n",
      "[CV] .... max_features=0.2393569005729641, max_depth=26, total=   0.2s\n",
      "[CV] max_features=0.2393569005729641, max_depth=26 ...................\n",
      "[CV] .... max_features=0.2393569005729641, max_depth=26, total=   0.2s\n",
      "[CV] max_features=0.2393569005729641, max_depth=26 ...................\n",
      "[CV] .... max_features=0.2393569005729641, max_depth=26, total=   0.1s\n",
      "[CV] max_features=0.2393569005729641, max_depth=26 ...................\n",
      "[CV] .... max_features=0.2393569005729641, max_depth=26, total=   0.1s\n",
      "[CV] max_features=0.2393569005729641, max_depth=26 ...................\n",
      "[CV] .... max_features=0.2393569005729641, max_depth=26, total=   0.1s\n",
      "[CV] max_features=0.2393569005729641, max_depth=26 ...................\n",
      "[CV] .... max_features=0.2393569005729641, max_depth=26, total=   0.1s\n",
      "[CV] max_features=0.2393569005729641, max_depth=26 ...................\n",
      "[CV] .... max_features=0.2393569005729641, max_depth=26, total=   0.1s\n",
      "[CV] max_features=0.2393569005729641, max_depth=26 ...................\n",
      "[CV] .... max_features=0.2393569005729641, max_depth=26, total=   0.2s\n",
      "[CV] max_features=0.2393569005729641, max_depth=23 ...................\n",
      "[CV] .... max_features=0.2393569005729641, max_depth=23, total=   0.2s\n",
      "[CV] max_features=0.2393569005729641, max_depth=23 ...................\n",
      "[CV] .... max_features=0.2393569005729641, max_depth=23, total=   0.2s\n",
      "[CV] max_features=0.2393569005729641, max_depth=23 ...................\n",
      "[CV] .... max_features=0.2393569005729641, max_depth=23, total=   0.2s\n",
      "[CV] max_features=0.2393569005729641, max_depth=23 ...................\n",
      "[CV] .... max_features=0.2393569005729641, max_depth=23, total=   0.3s\n",
      "[CV] max_features=0.2393569005729641, max_depth=23 ...................\n"
     ]
    },
    {
     "name": "stderr",
     "output_type": "stream",
     "text": [
      "[Parallel(n_jobs=1)]: Done  50 out of  50 | elapsed:    9.7s finished\n"
     ]
    },
    {
     "name": "stdout",
     "output_type": "stream",
     "text": [
      "[CV] .... max_features=0.2393569005729641, max_depth=23, total=   0.2s\n",
      "Fitting 5 folds for each of 10 candidates, totalling 50 fits\n",
      "[CV] max_features=0.3270627928564279, max_depth=14 ...................\n",
      "[CV] .... max_features=0.3270627928564279, max_depth=14, total=   0.1s\n",
      "[CV] max_features=0.3270627928564279, max_depth=14 ...................\n",
      "[CV] .... max_features=0.3270627928564279, max_depth=14, total=   0.1s\n",
      "[CV] max_features=0.3270627928564279, max_depth=14 ...................\n"
     ]
    },
    {
     "name": "stderr",
     "output_type": "stream",
     "text": [
      "[Parallel(n_jobs=1)]: Using backend SequentialBackend with 1 concurrent workers.\n",
      "[Parallel(n_jobs=1)]: Done   1 out of   1 | elapsed:    0.0s remaining:    0.0s\n"
     ]
    },
    {
     "name": "stdout",
     "output_type": "stream",
     "text": [
      "[CV] .... max_features=0.3270627928564279, max_depth=14, total=   0.1s\n",
      "[CV] max_features=0.3270627928564279, max_depth=14 ...................\n",
      "[CV] .... max_features=0.3270627928564279, max_depth=14, total=   0.1s\n",
      "[CV] max_features=0.3270627928564279, max_depth=14 ...................\n",
      "[CV] .... max_features=0.3270627928564279, max_depth=14, total=   0.1s\n",
      "[CV] max_features=0.3270627928564279, max_depth=24 ...................\n",
      "[CV] .... max_features=0.3270627928564279, max_depth=24, total=   0.1s\n",
      "[CV] max_features=0.3270627928564279, max_depth=24 ...................\n",
      "[CV] .... max_features=0.3270627928564279, max_depth=24, total=   0.1s\n",
      "[CV] max_features=0.3270627928564279, max_depth=24 ...................\n",
      "[CV] .... max_features=0.3270627928564279, max_depth=24, total=   0.1s\n",
      "[CV] max_features=0.3270627928564279, max_depth=24 ...................\n",
      "[CV] .... max_features=0.3270627928564279, max_depth=24, total=   0.1s\n",
      "[CV] max_features=0.3270627928564279, max_depth=24 ...................\n",
      "[CV] .... max_features=0.3270627928564279, max_depth=24, total=   0.1s\n",
      "[CV] max_features=0.7462896546398492, max_depth=17 ...................\n",
      "[CV] .... max_features=0.7462896546398492, max_depth=17, total=   0.2s\n",
      "[CV] max_features=0.7462896546398492, max_depth=17 ...................\n",
      "[CV] .... max_features=0.7462896546398492, max_depth=17, total=   0.1s\n",
      "[CV] max_features=0.7462896546398492, max_depth=17 ...................\n",
      "[CV] .... max_features=0.7462896546398492, max_depth=17, total=   0.2s\n",
      "[CV] max_features=0.7462896546398492, max_depth=17 ...................\n",
      "[CV] .... max_features=0.7462896546398492, max_depth=17, total=   0.2s\n",
      "[CV] max_features=0.7462896546398492, max_depth=17 ...................\n",
      "[CV] .... max_features=0.7462896546398492, max_depth=17, total=   0.1s\n",
      "[CV] max_features=0.6469402337184427, max_depth=20 ...................\n",
      "[CV] .... max_features=0.6469402337184427, max_depth=20, total=   0.1s\n",
      "[CV] max_features=0.6469402337184427, max_depth=20 ...................\n",
      "[CV] .... max_features=0.6469402337184427, max_depth=20, total=   0.2s\n",
      "[CV] max_features=0.6469402337184427, max_depth=20 ...................\n",
      "[CV] .... max_features=0.6469402337184427, max_depth=20, total=   0.1s\n",
      "[CV] max_features=0.6469402337184427, max_depth=20 ...................\n",
      "[CV] .... max_features=0.6469402337184427, max_depth=20, total=   0.1s\n",
      "[CV] max_features=0.6469402337184427, max_depth=20 ...................\n",
      "[CV] .... max_features=0.6469402337184427, max_depth=20, total=   0.1s\n",
      "[CV] max_features=0.5032853632253127, max_depth=20 ...................\n",
      "[CV] .... max_features=0.5032853632253127, max_depth=20, total=   0.2s\n",
      "[CV] max_features=0.5032853632253127, max_depth=20 ...................\n",
      "[CV] .... max_features=0.5032853632253127, max_depth=20, total=   0.1s\n",
      "[CV] max_features=0.5032853632253127, max_depth=20 ...................\n",
      "[CV] .... max_features=0.5032853632253127, max_depth=20, total=   0.1s\n",
      "[CV] max_features=0.5032853632253127, max_depth=20 ...................\n",
      "[CV] .... max_features=0.5032853632253127, max_depth=20, total=   0.1s\n",
      "[CV] max_features=0.5032853632253127, max_depth=20 ...................\n",
      "[CV] .... max_features=0.5032853632253127, max_depth=20, total=   0.1s\n",
      "[CV] max_features=0.22643138651717232, max_depth=11 ..................\n",
      "[CV] ... max_features=0.22643138651717232, max_depth=11, total=   0.1s\n",
      "[CV] max_features=0.22643138651717232, max_depth=11 ..................\n",
      "[CV] ... max_features=0.22643138651717232, max_depth=11, total=   0.1s\n",
      "[CV] max_features=0.22643138651717232, max_depth=11 ..................\n",
      "[CV] ... max_features=0.22643138651717232, max_depth=11, total=   0.1s\n",
      "[CV] max_features=0.22643138651717232, max_depth=11 ..................\n",
      "[CV] ... max_features=0.22643138651717232, max_depth=11, total=   0.1s\n",
      "[CV] max_features=0.22643138651717232, max_depth=11 ..................\n",
      "[CV] ... max_features=0.22643138651717232, max_depth=11, total=   0.1s\n",
      "[CV] max_features=0.4530190870207518, max_depth=26 ...................\n",
      "[CV] .... max_features=0.4530190870207518, max_depth=26, total=   0.1s\n",
      "[CV] max_features=0.4530190870207518, max_depth=26 ...................\n",
      "[CV] .... max_features=0.4530190870207518, max_depth=26, total=   0.1s\n",
      "[CV] max_features=0.4530190870207518, max_depth=26 ...................\n",
      "[CV] .... max_features=0.4530190870207518, max_depth=26, total=   0.1s\n",
      "[CV] max_features=0.4530190870207518, max_depth=26 ...................\n",
      "[CV] .... max_features=0.4530190870207518, max_depth=26, total=   0.1s\n",
      "[CV] max_features=0.4530190870207518, max_depth=26 ...................\n",
      "[CV] .... max_features=0.4530190870207518, max_depth=26, total=   0.1s\n",
      "[CV] max_features=0.7462896546398492, max_depth=14 ...................\n",
      "[CV] .... max_features=0.7462896546398492, max_depth=14, total=   0.1s\n",
      "[CV] max_features=0.7462896546398492, max_depth=14 ...................\n",
      "[CV] .... max_features=0.7462896546398492, max_depth=14, total=   0.1s\n",
      "[CV] max_features=0.7462896546398492, max_depth=14 ...................\n",
      "[CV] .... max_features=0.7462896546398492, max_depth=14, total=   0.1s\n",
      "[CV] max_features=0.7462896546398492, max_depth=14 ...................\n",
      "[CV] .... max_features=0.7462896546398492, max_depth=14, total=   0.1s\n",
      "[CV] max_features=0.7462896546398492, max_depth=14 ...................\n",
      "[CV] .... max_features=0.7462896546398492, max_depth=14, total=   0.1s\n",
      "[CV] max_features=0.7462896546398492, max_depth=16 ...................\n",
      "[CV] .... max_features=0.7462896546398492, max_depth=16, total=   0.1s\n",
      "[CV] max_features=0.7462896546398492, max_depth=16 ...................\n",
      "[CV] .... max_features=0.7462896546398492, max_depth=16, total=   0.1s\n",
      "[CV] max_features=0.7462896546398492, max_depth=16 ...................\n",
      "[CV] .... max_features=0.7462896546398492, max_depth=16, total=   0.2s\n",
      "[CV] max_features=0.7462896546398492, max_depth=16 ...................\n",
      "[CV] .... max_features=0.7462896546398492, max_depth=16, total=   0.2s\n",
      "[CV] max_features=0.7462896546398492, max_depth=16 ...................\n",
      "[CV] .... max_features=0.7462896546398492, max_depth=16, total=   0.2s\n",
      "[CV] max_features=0.7462896546398492, max_depth=27 ...................\n",
      "[CV] .... max_features=0.7462896546398492, max_depth=27, total=   0.2s\n",
      "[CV] max_features=0.7462896546398492, max_depth=27 ...................\n",
      "[CV] .... max_features=0.7462896546398492, max_depth=27, total=   0.2s\n",
      "[CV] max_features=0.7462896546398492, max_depth=27 ...................\n",
      "[CV] .... max_features=0.7462896546398492, max_depth=27, total=   0.2s\n",
      "[CV] max_features=0.7462896546398492, max_depth=27 ...................\n",
      "[CV] .... max_features=0.7462896546398492, max_depth=27, total=   0.2s\n",
      "[CV] max_features=0.7462896546398492, max_depth=27 ...................\n",
      "[CV] .... max_features=0.7462896546398492, max_depth=27, total=   0.2s\n"
     ]
    },
    {
     "name": "stderr",
     "output_type": "stream",
     "text": [
      "[Parallel(n_jobs=1)]: Done  50 out of  50 | elapsed:    6.2s finished\n"
     ]
    }
   ],
   "source": [
    "from sklearn.model_selection import RandomizedSearchCV\n",
    "\n",
    "results=[]\n",
    "for estimator in estimators :\n",
    "    result =[] \n",
    "    max_features = np.random.uniform(0.2,1.0,10)\n",
    "    max_depth = np.random.randint(5,30,10)\n",
    "    \n",
    "\n",
    "    param_distributions = {\"max_depth\" : max_depth,\n",
    "                          \"max_features\" : max_features }\n",
    "    \n",
    "    regressor =RandomizedSearchCV(estimator, \n",
    "                                 param_distributions,\n",
    "                                 n_iter = 10,\n",
    "                                 scoring = None,\n",
    "                                 cv =5,\n",
    "                                 verbose =2,\n",
    "                                 random_state =42)\n",
    "    \n",
    "    regressor.fit(X_train, y_train)\n",
    "    \n",
    "    result.append(estimator.__class__.__name__)\n",
    "    result.append(regressor.best_params_)\n",
    "    result.append(regressor.best_estimator_)\n",
    "    result.append(regressor.best_score_)\n",
    "    result.append(regressor.cv_results_)\n",
    "    results.append(result)"
   ]
  },
  {
   "cell_type": "code",
   "execution_count": 58,
   "metadata": {},
   "outputs": [
    {
     "data": {
      "text/html": [
       "<div>\n",
       "<style scoped>\n",
       "    .dataframe tbody tr th:only-of-type {\n",
       "        vertical-align: middle;\n",
       "    }\n",
       "\n",
       "    .dataframe tbody tr th {\n",
       "        vertical-align: top;\n",
       "    }\n",
       "\n",
       "    .dataframe thead th {\n",
       "        text-align: right;\n",
       "    }\n",
       "</style>\n",
       "<table border=\"1\" class=\"dataframe\">\n",
       "  <thead>\n",
       "    <tr style=\"text-align: right;\">\n",
       "      <th></th>\n",
       "      <th>model</th>\n",
       "      <th>params</th>\n",
       "      <th>estimator</th>\n",
       "      <th>score</th>\n",
       "      <th>cv_result</th>\n",
       "    </tr>\n",
       "  </thead>\n",
       "  <tbody>\n",
       "    <tr>\n",
       "      <th>0</th>\n",
       "      <td>DecisionTreeRegressor</td>\n",
       "      <td>{'max_features': 0.9523154789135921, 'max_dept...</td>\n",
       "      <td>DecisionTreeRegressor(max_depth=5, max_feature...</td>\n",
       "      <td>0.222069</td>\n",
       "      <td>{'mean_fit_time': [0.005481433868408203, 0.005...</td>\n",
       "    </tr>\n",
       "    <tr>\n",
       "      <th>1</th>\n",
       "      <td>RandomForestRegressor</td>\n",
       "      <td>{'max_features': 0.5995194747219852, 'max_dept...</td>\n",
       "      <td>(DecisionTreeRegressor(max_depth=26, max_featu...</td>\n",
       "      <td>0.338417</td>\n",
       "      <td>{'mean_fit_time': [0.20203628540039062, 0.1778...</td>\n",
       "    </tr>\n",
       "    <tr>\n",
       "      <th>2</th>\n",
       "      <td>GradientBoostingRegressor</td>\n",
       "      <td>{'max_features': 0.3270627928564279, 'max_dept...</td>\n",
       "      <td>([DecisionTreeRegressor(criterion='friedman_ms...</td>\n",
       "      <td>0.302983</td>\n",
       "      <td>{'mean_fit_time': [0.08804383277893066, 0.0904...</td>\n",
       "    </tr>\n",
       "  </tbody>\n",
       "</table>\n",
       "</div>"
      ],
      "text/plain": [
       "                       model  \\\n",
       "0      DecisionTreeRegressor   \n",
       "1      RandomForestRegressor   \n",
       "2  GradientBoostingRegressor   \n",
       "\n",
       "                                              params  \\\n",
       "0  {'max_features': 0.9523154789135921, 'max_dept...   \n",
       "1  {'max_features': 0.5995194747219852, 'max_dept...   \n",
       "2  {'max_features': 0.3270627928564279, 'max_dept...   \n",
       "\n",
       "                                           estimator     score  \\\n",
       "0  DecisionTreeRegressor(max_depth=5, max_feature...  0.222069   \n",
       "1  (DecisionTreeRegressor(max_depth=26, max_featu...  0.338417   \n",
       "2  ([DecisionTreeRegressor(criterion='friedman_ms...  0.302983   \n",
       "\n",
       "                                           cv_result  \n",
       "0  {'mean_fit_time': [0.005481433868408203, 0.005...  \n",
       "1  {'mean_fit_time': [0.20203628540039062, 0.1778...  \n",
       "2  {'mean_fit_time': [0.08804383277893066, 0.0904...  "
      ]
     },
     "execution_count": 58,
     "metadata": {},
     "output_type": "execute_result"
    }
   ],
   "source": [
    "df_cv =pd.DataFrame(results)\n",
    "df_cv.columns = [\"model\",\"params\",\"estimator\",\"score\",\"cv_result\"]\n",
    "df_cv"
   ]
  },
  {
   "cell_type": "code",
   "execution_count": 60,
   "metadata": {},
   "outputs": [
    {
     "data": {
      "text/plain": [
       "RandomForestRegressor(max_depth=26, max_features=0.5995194747219852,\n",
       "                      random_state=42)"
      ]
     },
     "execution_count": 60,
     "metadata": {},
     "output_type": "execute_result"
    }
   ],
   "source": [
    "#RandomForestRegressor가 score가 가장 높다.\n",
    "best_estimator = df_cv.loc[1,\"estimator\"]\n",
    "best_estimator"
   ]
  },
  {
   "cell_type": "code",
   "execution_count": 61,
   "metadata": {},
   "outputs": [
    {
     "data": {
      "text/plain": [
       "RandomForestRegressor(max_depth=26, max_features=0.5995194747219852,\n",
       "                      random_state=42)"
      ]
     },
     "execution_count": 61,
     "metadata": {},
     "output_type": "execute_result"
    }
   ],
   "source": [
    "#다시 학습시킨다.\n",
    "best_estimator.fit(X_train, y_train)"
   ]
  },
  {
   "cell_type": "code",
   "execution_count": 63,
   "metadata": {},
   "outputs": [
    {
     "name": "stderr",
     "output_type": "stream",
     "text": [
      "[Parallel(n_jobs=-1)]: Using backend LokyBackend with 8 concurrent workers.\n",
      "[Parallel(n_jobs=-1)]: Done   2 out of   5 | elapsed:    5.2s remaining:    7.8s\n",
      "[Parallel(n_jobs=-1)]: Done   5 out of   5 | elapsed:    5.2s remaining:    0.0s\n",
      "[Parallel(n_jobs=-1)]: Done   5 out of   5 | elapsed:    5.2s finished\n"
     ]
    },
    {
     "data": {
      "text/plain": [
       "array([ 50.12, 151.55,  94.36, 145.49, 181.26])"
      ]
     },
     "execution_count": 63,
     "metadata": {},
     "output_type": "execute_result"
    }
   ],
   "source": [
    "#cross_validation으로 오차를 측정한다.\n",
    "from sklearn.model_selection import cross_val_predict\n",
    "\n",
    "y_predict = cross_val_predict(best_estimator, X_train, y_train, cv= 5, verbose = 2, n_jobs =-1)\n",
    "y_predict[:5]"
   ]
  },
  {
   "cell_type": "code",
   "execution_count": 64,
   "metadata": {},
   "outputs": [
    {
     "name": "stderr",
     "output_type": "stream",
     "text": [
      "C:\\anaconda3\\lib\\site-packages\\seaborn\\_decorators.py:36: FutureWarning: Pass the following variables as keyword args: x, y. From version 0.12, the only valid positional argument will be `data`, and passing other arguments without an explicit keyword will result in an error or misinterpretation.\n",
      "  warnings.warn(\n"
     ]
    },
    {
     "data": {
      "text/plain": [
       "<AxesSubplot:xlabel='Insulin'>"
      ]
     },
     "execution_count": 64,
     "metadata": {},
     "output_type": "execute_result"
    },
    {
     "data": {
      "image/png": "[encoded data removed]",
      "text/plain": [
       "<Figure size 432x288 with 1 Axes>"
      ]
     },
     "metadata": {
      "needs_background": "light"
     },
     "output_type": "display_data"
    }
   ],
   "source": [
    "#회귀선에 값들이 가까워졌다.\n",
    "sns.regplot(y_train,y_predict)"
   ]
  },
  {
   "cell_type": "code",
   "execution_count": 65,
   "metadata": {},
   "outputs": [
    {
     "name": "stderr",
     "output_type": "stream",
     "text": [
      "C:\\anaconda3\\lib\\site-packages\\seaborn\\distributions.py:2557: FutureWarning: `distplot` is a deprecated function and will be removed in a future version. Please adapt your code to use either `displot` (a figure-level function with similar flexibility) or `kdeplot` (an axes-level function for kernel density plots).\n",
      "  warnings.warn(msg, FutureWarning)\n",
      "C:\\anaconda3\\lib\\site-packages\\seaborn\\distributions.py:2557: FutureWarning: `distplot` is a deprecated function and will be removed in a future version. Please adapt your code to use either `displot` (a figure-level function with similar flexibility) or `kdeplot` (an axes-level function for kernel density plots).\n",
      "  warnings.warn(msg, FutureWarning)\n"
     ]
    },
    {
     "data": {
      "text/plain": [
       "<AxesSubplot:xlabel='Insulin', ylabel='Density'>"
      ]
     },
     "execution_count": 65,
     "metadata": {},
     "output_type": "execute_result"
    },
    {
     "data": {
      "image/png": "[encoded data removed]",
      "text/plain": [
       "<Figure size 432x288 with 1 Axes>"
      ]
     },
     "metadata": {
      "needs_background": "light"
     },
     "output_type": "display_data"
    }
   ],
   "source": [
    "#분포의 차이는 보인다.\n",
    "sns.distplot(y_train, hist =False, label='train')\n",
    "sns.distplot(y_predict, hist= False,label=\"predict\")"
   ]
  },
  {
   "cell_type": "code",
   "execution_count": 67,
   "metadata": {},
   "outputs": [
    {
     "data": {
      "text/plain": [
       "44.82059459459458"
      ]
     },
     "execution_count": 67,
     "metadata": {},
     "output_type": "execute_result"
    }
   ],
   "source": [
    "error= abs(y_train - y_predict)\n",
    "error.mean()"
   ]
  },
  {
   "cell_type": "code",
   "execution_count": 68,
   "metadata": {},
   "outputs": [
    {
     "name": "stderr",
     "output_type": "stream",
     "text": [
      "C:\\anaconda3\\lib\\site-packages\\seaborn\\distributions.py:2557: FutureWarning: `distplot` is a deprecated function and will be removed in a future version. Please adapt your code to use either `displot` (a figure-level function with similar flexibility) or `histplot` (an axes-level function for histograms).\n",
      "  warnings.warn(msg, FutureWarning)\n"
     ]
    },
    {
     "data": {
      "text/plain": [
       "<AxesSubplot:xlabel='Insulin', ylabel='Density'>"
      ]
     },
     "execution_count": 68,
     "metadata": {},
     "output_type": "execute_result"
    },
    {
     "data": {
      "image/png": "[encoded data removed]",
      "text/plain": [
       "<Figure size 432x288 with 1 Axes>"
      ]
     },
     "metadata": {
      "needs_background": "light"
     },
     "output_type": "display_data"
    }
   ],
   "source": [
    "#오류차이가 적게 나는 부분에 데이터가 몰려있는것을 확인 할 수 있다.\n",
    "sns.distplot(error)"
   ]
  },
  {
   "cell_type": "code",
   "execution_count": 70,
   "metadata": {},
   "outputs": [
    {
     "data": {
      "text/plain": [
       "count    370.000000\n",
       "mean      44.820595\n",
       "std       39.620551\n",
       "min        0.010000\n",
       "25%       13.995000\n",
       "50%       35.780000\n",
       "75%       66.552500\n",
       "max      228.330000\n",
       "Name: Insulin, dtype: float64"
      ]
     },
     "execution_count": 70,
     "metadata": {},
     "output_type": "execute_result"
    }
   ],
   "source": [
    "error.describe()"
   ]
  },
  {
   "cell_type": "markdown",
   "metadata": {},
   "source": [
    "#### MAE = Mean absolutely Error"
   ]
  },
  {
   "cell_type": "code",
   "execution_count": 72,
   "metadata": {},
   "outputs": [
    {
     "data": {
      "text/plain": [
       "44.82059459459458"
      ]
     },
     "execution_count": 72,
     "metadata": {},
     "output_type": "execute_result"
    }
   ],
   "source": [
    "# 86\n",
    "# 77 (600이상의 이상치 제거)\n",
    "# 62 (이상치 제거)\n",
    "# 44 - RandomSearchCV\n",
    "error = abs(y_train- y_predict)\n",
    "error.mean()"
   ]
  },
  {
   "cell_type": "code",
   "execution_count": 73,
   "metadata": {},
   "outputs": [
    {
     "name": "stderr",
     "output_type": "stream",
     "text": [
      "C:\\anaconda3\\lib\\site-packages\\seaborn\\distributions.py:2557: FutureWarning: `distplot` is a deprecated function and will be removed in a future version. Please adapt your code to use either `displot` (a figure-level function with similar flexibility) or `histplot` (an axes-level function for histograms).\n",
      "  warnings.warn(msg, FutureWarning)\n"
     ]
    },
    {
     "data": {
      "text/plain": [
       "<AxesSubplot:xlabel='Insulin', ylabel='Density'>"
      ]
     },
     "execution_count": 73,
     "metadata": {},
     "output_type": "execute_result"
    },
    {
     "data": {
      "image/png": "[encoded data removed]",
      "text/plain": [
       "<Figure size 432x288 with 1 Axes>"
      ]
     },
     "metadata": {
      "needs_background": "light"
     },
     "output_type": "display_data"
    }
   ],
   "source": [
    "sns.distplot(error)"
   ]
  },
  {
   "cell_type": "code",
   "execution_count": 74,
   "metadata": {},
   "outputs": [
    {
     "data": {
      "text/plain": [
       "count    370.000000\n",
       "mean      44.820595\n",
       "std       39.620551\n",
       "min        0.010000\n",
       "25%       13.995000\n",
       "50%       35.780000\n",
       "75%       66.552500\n",
       "max      228.330000\n",
       "Name: Insulin, dtype: float64"
      ]
     },
     "execution_count": 74,
     "metadata": {},
     "output_type": "execute_result"
    }
   ],
   "source": [
    "error.describe()"
   ]
  },
  {
   "cell_type": "markdown",
   "metadata": {},
   "source": [
    "#### RMSE = Root Mean Squared Error"
   ]
  },
  {
   "cell_type": "code",
   "execution_count": 76,
   "metadata": {},
   "outputs": [
    {
     "data": {
      "text/plain": [
       "59.786546222283086"
      ]
     },
     "execution_count": 76,
     "metadata": {},
     "output_type": "execute_result"
    }
   ],
   "source": [
    "#RMSE는 표준편차를 구하는 식과 유사하다.\n",
    "# 126.895\n",
    "# 114.077 (600이상이 이상치 제거)\n",
    "# 84.111 (이상치 제거)\n",
    "# 59.786 (RandomSearchCV)\n",
    "np.sqrt(((y_train - y_predict)**2).mean())"
   ]
  },
  {
   "cell_type": "code",
   "execution_count": 77,
   "metadata": {
    "scrolled": true
   },
   "outputs": [],
   "source": [
    "#DecisionTree 시각화\n",
    "\n",
    "#from sklearn.tree import plot_tree\n",
    "\n",
    "#plt.figure.Figure(figsize=(20, 20))\n",
    "#tree = plot_tree(model, feature_names = feature_names, filled=True, fontsize=10)"
   ]
  },
  {
   "cell_type": "code",
   "execution_count": 78,
   "metadata": {},
   "outputs": [
    {
     "data": {
      "text/plain": [
       "array([0.04858345, 0.44656558, 0.07097731, 0.05588694, 0.16087336,\n",
       "       0.09607089, 0.11025783, 0.01078464])"
      ]
     },
     "execution_count": 78,
     "metadata": {},
     "output_type": "execute_result"
    }
   ],
   "source": [
    "model.feature_importances_"
   ]
  },
  {
   "cell_type": "code",
   "execution_count": 79,
   "metadata": {},
   "outputs": [
    {
     "data": {
      "text/plain": [
       "<AxesSubplot:>"
      ]
     },
     "execution_count": 79,
     "metadata": {},
     "output_type": "execute_result"
    },
    {
     "data": {
      "image/png": "[encoded data removed]",
      "text/plain": [
       "<Figure size 432x288 with 1 Axes>"
      ]
     },
     "metadata": {
      "needs_background": "light"
     },
     "output_type": "display_data"
    }
   ],
   "source": [
    "sns.barplot(x= model.feature_importances_, y= feature_names)"
   ]
  },
  {
   "cell_type": "markdown",
   "metadata": {},
   "source": [
    "#### 예측"
   ]
  },
  {
   "cell_type": "code",
   "execution_count": 80,
   "metadata": {},
   "outputs": [
    {
     "data": {
      "text/plain": [
       "array([168.,  37., 130., 215., 165.])"
      ]
     },
     "execution_count": 80,
     "metadata": {},
     "output_type": "execute_result"
    }
   ],
   "source": [
    "y_test = model.predict(X_test)\n",
    "y_test[:5]"
   ]
  },
  {
   "cell_type": "markdown",
   "metadata": {},
   "source": [
    "#### 예측의 결과값 분석"
   ]
  },
  {
   "cell_type": "markdown",
   "metadata": {},
   "source": [
    " - 정답값(y_test)가 없기 때문에 y_train의 정보들과 비교해서 잘 예측했는지 확인한다."
   ]
  },
  {
   "cell_type": "code",
   "execution_count": 81,
   "metadata": {},
   "outputs": [
    {
     "data": {
      "text/html": [
       "<div>\n",
       "<style scoped>\n",
       "    .dataframe tbody tr th:only-of-type {\n",
       "        vertical-align: middle;\n",
       "    }\n",
       "\n",
       "    .dataframe tbody tr th {\n",
       "        vertical-align: top;\n",
       "    }\n",
       "\n",
       "    .dataframe thead th {\n",
       "        text-align: right;\n",
       "    }\n",
       "</style>\n",
       "<table border=\"1\" class=\"dataframe\">\n",
       "  <thead>\n",
       "    <tr style=\"text-align: right;\">\n",
       "      <th></th>\n",
       "      <th>count</th>\n",
       "      <th>mean</th>\n",
       "      <th>std</th>\n",
       "      <th>min</th>\n",
       "      <th>25%</th>\n",
       "      <th>50%</th>\n",
       "      <th>75%</th>\n",
       "      <th>max</th>\n",
       "    </tr>\n",
       "    <tr>\n",
       "      <th>Outcome</th>\n",
       "      <th></th>\n",
       "      <th></th>\n",
       "      <th></th>\n",
       "      <th></th>\n",
       "      <th></th>\n",
       "      <th></th>\n",
       "      <th></th>\n",
       "      <th></th>\n",
       "    </tr>\n",
       "  </thead>\n",
       "  <tbody>\n",
       "    <tr>\n",
       "      <th>0</th>\n",
       "      <td>254.0</td>\n",
       "      <td>115.917323</td>\n",
       "      <td>69.844697</td>\n",
       "      <td>15.0</td>\n",
       "      <td>64.25</td>\n",
       "      <td>100.0</td>\n",
       "      <td>151.00</td>\n",
       "      <td>342.0</td>\n",
       "    </tr>\n",
       "    <tr>\n",
       "      <th>1</th>\n",
       "      <td>116.0</td>\n",
       "      <td>169.163793</td>\n",
       "      <td>70.789454</td>\n",
       "      <td>14.0</td>\n",
       "      <td>124.25</td>\n",
       "      <td>160.0</td>\n",
       "      <td>207.75</td>\n",
       "      <td>360.0</td>\n",
       "    </tr>\n",
       "  </tbody>\n",
       "</table>\n",
       "</div>"
      ],
      "text/plain": [
       "         count        mean        std   min     25%    50%     75%    max\n",
       "Outcome                                                                  \n",
       "0        254.0  115.917323  69.844697  15.0   64.25  100.0  151.00  342.0\n",
       "1        116.0  169.163793  70.789454  14.0  124.25  160.0  207.75  360.0"
      ]
     },
     "execution_count": 81,
     "metadata": {},
     "output_type": "execute_result"
    }
   ],
   "source": [
    "train.groupby('Outcome')['Insulin'].describe()"
   ]
  },
  {
   "cell_type": "code",
   "execution_count": 82,
   "metadata": {},
   "outputs": [],
   "source": [
    "test['Insulin'] =y_test"
   ]
  },
  {
   "cell_type": "code",
   "execution_count": 83,
   "metadata": {},
   "outputs": [
    {
     "data": {
      "text/html": [
       "<div>\n",
       "<style scoped>\n",
       "    .dataframe tbody tr th:only-of-type {\n",
       "        vertical-align: middle;\n",
       "    }\n",
       "\n",
       "    .dataframe tbody tr th {\n",
       "        vertical-align: top;\n",
       "    }\n",
       "\n",
       "    .dataframe thead th {\n",
       "        text-align: right;\n",
       "    }\n",
       "</style>\n",
       "<table border=\"1\" class=\"dataframe\">\n",
       "  <thead>\n",
       "    <tr style=\"text-align: right;\">\n",
       "      <th></th>\n",
       "      <th>count</th>\n",
       "      <th>mean</th>\n",
       "      <th>std</th>\n",
       "      <th>min</th>\n",
       "      <th>25%</th>\n",
       "      <th>50%</th>\n",
       "      <th>75%</th>\n",
       "      <th>max</th>\n",
       "    </tr>\n",
       "    <tr>\n",
       "      <th>Outcome</th>\n",
       "      <th></th>\n",
       "      <th></th>\n",
       "      <th></th>\n",
       "      <th></th>\n",
       "      <th></th>\n",
       "      <th></th>\n",
       "      <th></th>\n",
       "      <th></th>\n",
       "    </tr>\n",
       "  </thead>\n",
       "  <tbody>\n",
       "    <tr>\n",
       "      <th>0</th>\n",
       "      <td>236.0</td>\n",
       "      <td>124.906780</td>\n",
       "      <td>80.878263</td>\n",
       "      <td>18.0</td>\n",
       "      <td>64.00</td>\n",
       "      <td>97.5</td>\n",
       "      <td>155.0</td>\n",
       "      <td>335.0</td>\n",
       "    </tr>\n",
       "    <tr>\n",
       "      <th>1</th>\n",
       "      <td>138.0</td>\n",
       "      <td>163.724638</td>\n",
       "      <td>83.718835</td>\n",
       "      <td>14.0</td>\n",
       "      <td>96.75</td>\n",
       "      <td>145.0</td>\n",
       "      <td>215.0</td>\n",
       "      <td>328.0</td>\n",
       "    </tr>\n",
       "  </tbody>\n",
       "</table>\n",
       "</div>"
      ],
      "text/plain": [
       "         count        mean        std   min    25%    50%    75%    max\n",
       "Outcome                                                                \n",
       "0        236.0  124.906780  80.878263  18.0  64.00   97.5  155.0  335.0\n",
       "1        138.0  163.724638  83.718835  14.0  96.75  145.0  215.0  328.0"
      ]
     },
     "execution_count": 83,
     "metadata": {},
     "output_type": "execute_result"
    }
   ],
   "source": [
    "test.groupby('Outcome')['Insulin'].describe()"
   ]
  },
  {
   "cell_type": "code",
   "execution_count": 84,
   "metadata": {},
   "outputs": [
    {
     "data": {
      "text/plain": [
       "<AxesSubplot:xlabel='Outcome', ylabel='Insulin'>"
      ]
     },
     "execution_count": 84,
     "metadata": {},
     "output_type": "execute_result"
    },
    {
     "data": {
      "image/png": "[encoded data removed]",
      "text/plain": [
       "<Figure size 432x288 with 1 Axes>"
      ]
     },
     "metadata": {
      "needs_background": "light"
     },
     "output_type": "display_data"
    }
   ],
   "source": [
    "#train데이터 인슐린 평균값을 시각화\n",
    "sns.barplot(data=train, x='Outcome',y='Insulin')"
   ]
  },
  {
   "cell_type": "code",
   "execution_count": 85,
   "metadata": {},
   "outputs": [
    {
     "data": {
      "text/plain": [
       "<AxesSubplot:xlabel='Outcome', ylabel='Insulin'>"
      ]
     },
     "execution_count": 85,
     "metadata": {},
     "output_type": "execute_result"
    },
    {
     "data": {
      "image/png": "[encoded data removed]",
      "text/plain": [
       "<Figure size 432x288 with 1 Axes>"
      ]
     },
     "metadata": {
      "needs_background": "light"
     },
     "output_type": "display_data"
    }
   ],
   "source": [
    "#test데이터 인슐린 평균값 시각화\n",
    "sns.barplot(data= test, x='Outcome', y='Insulin')"
   ]
  },
  {
   "cell_type": "markdown",
   "metadata": {},
   "source": [
    "## csv파일로 인슐린 예측 결과 저장하기"
   ]
  },
  {
   "cell_type": "code",
   "execution_count": 89,
   "metadata": {},
   "outputs": [
    {
     "data": {
      "text/plain": [
       "0      0\n",
       "1      0\n",
       "2      0\n",
       "5      0\n",
       "7      0\n",
       "      ..\n",
       "761    0\n",
       "762    0\n",
       "764    0\n",
       "766    0\n",
       "767    0\n",
       "Name: Insulin, Length: 374, dtype: int64"
      ]
     },
     "execution_count": 89,
     "metadata": {},
     "output_type": "execute_result"
    }
   ],
   "source": [
    "df.loc[df['Insulin']==0,'Insulin']"
   ]
  },
  {
   "cell_type": "code",
   "execution_count": 90,
   "metadata": {},
   "outputs": [
    {
     "data": {
      "text/plain": [
       "0      168.0\n",
       "1       37.0\n",
       "2      130.0\n",
       "5      215.0\n",
       "7      165.0\n",
       "       ...  \n",
       "761    328.0\n",
       "762     94.0\n",
       "764    325.0\n",
       "766     22.0\n",
       "767     88.0\n",
       "Name: Insulin, Length: 374, dtype: float64"
      ]
     },
     "execution_count": 90,
     "metadata": {},
     "output_type": "execute_result"
    }
   ],
   "source": [
    "test['Insulin']"
   ]
  },
  {
   "cell_type": "code",
   "execution_count": 91,
   "metadata": {},
   "outputs": [],
   "source": [
    "df.loc[df['Insulin']==0,'Insulin'] =test['Insulin']"
   ]
  },
  {
   "cell_type": "code",
   "execution_count": 111,
   "metadata": {},
   "outputs": [],
   "source": [
    "df.to_csv(\"./Data/diabetes_fill_insulin.csv\",index=False)"
   ]
  },
  {
   "cell_type": "code",
   "execution_count": 110,
   "metadata": {},
   "outputs": [
    {
     "data": {
      "text/html": [
       "<div>\n",
       "<style scoped>\n",
       "    .dataframe tbody tr th:only-of-type {\n",
       "        vertical-align: middle;\n",
       "    }\n",
       "\n",
       "    .dataframe tbody tr th {\n",
       "        vertical-align: top;\n",
       "    }\n",
       "\n",
       "    .dataframe thead th {\n",
       "        text-align: right;\n",
       "    }\n",
       "</style>\n",
       "<table border=\"1\" class=\"dataframe\">\n",
       "  <thead>\n",
       "    <tr style=\"text-align: right;\">\n",
       "      <th></th>\n",
       "      <th>Unnamed: 0</th>\n",
       "      <th>Pregnancies</th>\n",
       "      <th>Glucose</th>\n",
       "      <th>BloodPressure</th>\n",
       "      <th>SkinThickness</th>\n",
       "      <th>Insulin</th>\n",
       "      <th>BMI</th>\n",
       "      <th>DiabetesPedigreeFunction</th>\n",
       "      <th>Age</th>\n",
       "      <th>Outcome</th>\n",
       "    </tr>\n",
       "  </thead>\n",
       "  <tbody>\n",
       "    <tr>\n",
       "      <th>0</th>\n",
       "      <td>0</td>\n",
       "      <td>6</td>\n",
       "      <td>148</td>\n",
       "      <td>72</td>\n",
       "      <td>35</td>\n",
       "      <td>168.0</td>\n",
       "      <td>33.6</td>\n",
       "      <td>0.627</td>\n",
       "      <td>50</td>\n",
       "      <td>1</td>\n",
       "    </tr>\n",
       "    <tr>\n",
       "      <th>1</th>\n",
       "      <td>1</td>\n",
       "      <td>1</td>\n",
       "      <td>85</td>\n",
       "      <td>66</td>\n",
       "      <td>29</td>\n",
       "      <td>37.0</td>\n",
       "      <td>26.6</td>\n",
       "      <td>0.351</td>\n",
       "      <td>31</td>\n",
       "      <td>0</td>\n",
       "    </tr>\n",
       "    <tr>\n",
       "      <th>2</th>\n",
       "      <td>2</td>\n",
       "      <td>8</td>\n",
       "      <td>183</td>\n",
       "      <td>64</td>\n",
       "      <td>0</td>\n",
       "      <td>130.0</td>\n",
       "      <td>23.3</td>\n",
       "      <td>0.672</td>\n",
       "      <td>32</td>\n",
       "      <td>1</td>\n",
       "    </tr>\n",
       "    <tr>\n",
       "      <th>3</th>\n",
       "      <td>3</td>\n",
       "      <td>1</td>\n",
       "      <td>89</td>\n",
       "      <td>66</td>\n",
       "      <td>23</td>\n",
       "      <td>94.0</td>\n",
       "      <td>28.1</td>\n",
       "      <td>0.167</td>\n",
       "      <td>21</td>\n",
       "      <td>0</td>\n",
       "    </tr>\n",
       "    <tr>\n",
       "      <th>4</th>\n",
       "      <td>4</td>\n",
       "      <td>0</td>\n",
       "      <td>137</td>\n",
       "      <td>40</td>\n",
       "      <td>35</td>\n",
       "      <td>168.0</td>\n",
       "      <td>43.1</td>\n",
       "      <td>2.288</td>\n",
       "      <td>33</td>\n",
       "      <td>1</td>\n",
       "    </tr>\n",
       "    <tr>\n",
       "      <th>...</th>\n",
       "      <td>...</td>\n",
       "      <td>...</td>\n",
       "      <td>...</td>\n",
       "      <td>...</td>\n",
       "      <td>...</td>\n",
       "      <td>...</td>\n",
       "      <td>...</td>\n",
       "      <td>...</td>\n",
       "      <td>...</td>\n",
       "      <td>...</td>\n",
       "    </tr>\n",
       "    <tr>\n",
       "      <th>763</th>\n",
       "      <td>763</td>\n",
       "      <td>10</td>\n",
       "      <td>101</td>\n",
       "      <td>76</td>\n",
       "      <td>48</td>\n",
       "      <td>180.0</td>\n",
       "      <td>32.9</td>\n",
       "      <td>0.171</td>\n",
       "      <td>63</td>\n",
       "      <td>0</td>\n",
       "    </tr>\n",
       "    <tr>\n",
       "      <th>764</th>\n",
       "      <td>764</td>\n",
       "      <td>2</td>\n",
       "      <td>122</td>\n",
       "      <td>70</td>\n",
       "      <td>27</td>\n",
       "      <td>325.0</td>\n",
       "      <td>36.8</td>\n",
       "      <td>0.340</td>\n",
       "      <td>27</td>\n",
       "      <td>0</td>\n",
       "    </tr>\n",
       "    <tr>\n",
       "      <th>765</th>\n",
       "      <td>765</td>\n",
       "      <td>5</td>\n",
       "      <td>121</td>\n",
       "      <td>72</td>\n",
       "      <td>23</td>\n",
       "      <td>112.0</td>\n",
       "      <td>26.2</td>\n",
       "      <td>0.245</td>\n",
       "      <td>30</td>\n",
       "      <td>0</td>\n",
       "    </tr>\n",
       "    <tr>\n",
       "      <th>766</th>\n",
       "      <td>766</td>\n",
       "      <td>1</td>\n",
       "      <td>126</td>\n",
       "      <td>60</td>\n",
       "      <td>0</td>\n",
       "      <td>22.0</td>\n",
       "      <td>30.1</td>\n",
       "      <td>0.349</td>\n",
       "      <td>47</td>\n",
       "      <td>1</td>\n",
       "    </tr>\n",
       "    <tr>\n",
       "      <th>767</th>\n",
       "      <td>767</td>\n",
       "      <td>1</td>\n",
       "      <td>93</td>\n",
       "      <td>70</td>\n",
       "      <td>31</td>\n",
       "      <td>88.0</td>\n",
       "      <td>30.4</td>\n",
       "      <td>0.315</td>\n",
       "      <td>23</td>\n",
       "      <td>0</td>\n",
       "    </tr>\n",
       "  </tbody>\n",
       "</table>\n",
       "<p>768 rows × 10 columns</p>\n",
       "</div>"
      ],
      "text/plain": [
       "     Unnamed: 0  Pregnancies  Glucose  BloodPressure  SkinThickness  Insulin  \\\n",
       "0             0            6      148             72             35    168.0   \n",
       "1             1            1       85             66             29     37.0   \n",
       "2             2            8      183             64              0    130.0   \n",
       "3             3            1       89             66             23     94.0   \n",
       "4             4            0      137             40             35    168.0   \n",
       "..          ...          ...      ...            ...            ...      ...   \n",
       "763         763           10      101             76             48    180.0   \n",
       "764         764            2      122             70             27    325.0   \n",
       "765         765            5      121             72             23    112.0   \n",
       "766         766            1      126             60              0     22.0   \n",
       "767         767            1       93             70             31     88.0   \n",
       "\n",
       "      BMI  DiabetesPedigreeFunction  Age  Outcome  \n",
       "0    33.6                     0.627   50        1  \n",
       "1    26.6                     0.351   31        0  \n",
       "2    23.3                     0.672   32        1  \n",
       "3    28.1                     0.167   21        0  \n",
       "4    43.1                     2.288   33        1  \n",
       "..    ...                       ...  ...      ...  \n",
       "763  32.9                     0.171   63        0  \n",
       "764  36.8                     0.340   27        0  \n",
       "765  26.2                     0.245   30        0  \n",
       "766  30.1                     0.349   47        1  \n",
       "767  30.4                     0.315   23        0  \n",
       "\n",
       "[768 rows x 10 columns]"
      ]
     },
     "execution_count": 110,
     "metadata": {},
     "output_type": "execute_result"
    }
   ],
   "source": [
    "pd.read_csv(\"./Data/diabetes_fill_insulin.csv\")"
   ]
  },
  {
   "cell_type": "code",
   "execution_count": null,
   "metadata": {},
   "outputs": [],
   "source": []
  }
 ],
 "metadata": {
  "kernelspec": {
   "display_name": "Python 3",
   "language": "python",
   "name": "python3"
  },
  "language_info": {
   "codemirror_mode": {
    "name": "ipython",
    "version": 3
   },
   "file_extension": ".py",
   "mimetype": "text/x-python",
   "name": "python",
   "nbconvert_exporter": "python",
   "pygments_lexer": "ipython3",
   "version": "3.8.5"
  }
 },
 "nbformat": 4,
 "nbformat_minor": 4
}
