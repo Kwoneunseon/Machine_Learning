{
 "cells": [
  {
   "cell_type": "markdown",
   "metadata": {},
   "source": [
    "## 5.1 인슐린 수치를 에측하기위해 데이터 셋 나누기"
   ]
  },
  {
   "cell_type": "code",
   "execution_count": 117,
   "metadata": {},
   "outputs": [],
   "source": [
    "#라이브러리\n",
    "import numpy as np\n",
    "import pandas as pd\n",
    "import seaborn as sns\n",
    "import matplotlib as plt"
   ]
  },
  {
   "cell_type": "code",
   "execution_count": 118,
   "metadata": {},
   "outputs": [
    {
     "data": {
      "text/plain": [
       "(768, 9)"
      ]
     },
     "execution_count": 118,
     "metadata": {},
     "output_type": "execute_result"
    }
   ],
   "source": [
    "df = pd.read_csv('./Data/diabetes.csv')\n",
    "df.shape"
   ]
  },
  {
   "cell_type": "code",
   "execution_count": 119,
   "metadata": {},
   "outputs": [
    {
     "data": {
      "text/html": [
       "<div>\n",
       "<style scoped>\n",
       "    .dataframe tbody tr th:only-of-type {\n",
       "        vertical-align: middle;\n",
       "    }\n",
       "\n",
       "    .dataframe tbody tr th {\n",
       "        vertical-align: top;\n",
       "    }\n",
       "\n",
       "    .dataframe thead th {\n",
       "        text-align: right;\n",
       "    }\n",
       "</style>\n",
       "<table border=\"1\" class=\"dataframe\">\n",
       "  <thead>\n",
       "    <tr style=\"text-align: right;\">\n",
       "      <th></th>\n",
       "      <th>Pregnancies</th>\n",
       "      <th>Glucose</th>\n",
       "      <th>BloodPressure</th>\n",
       "      <th>SkinThickness</th>\n",
       "      <th>Insulin</th>\n",
       "      <th>BMI</th>\n",
       "      <th>DiabetesPedigreeFunction</th>\n",
       "      <th>Age</th>\n",
       "      <th>Outcome</th>\n",
       "    </tr>\n",
       "  </thead>\n",
       "  <tbody>\n",
       "    <tr>\n",
       "      <th>0</th>\n",
       "      <td>6</td>\n",
       "      <td>148</td>\n",
       "      <td>72</td>\n",
       "      <td>35</td>\n",
       "      <td>0</td>\n",
       "      <td>33.6</td>\n",
       "      <td>0.627</td>\n",
       "      <td>50</td>\n",
       "      <td>1</td>\n",
       "    </tr>\n",
       "    <tr>\n",
       "      <th>1</th>\n",
       "      <td>1</td>\n",
       "      <td>85</td>\n",
       "      <td>66</td>\n",
       "      <td>29</td>\n",
       "      <td>0</td>\n",
       "      <td>26.6</td>\n",
       "      <td>0.351</td>\n",
       "      <td>31</td>\n",
       "      <td>0</td>\n",
       "    </tr>\n",
       "    <tr>\n",
       "      <th>2</th>\n",
       "      <td>8</td>\n",
       "      <td>183</td>\n",
       "      <td>64</td>\n",
       "      <td>0</td>\n",
       "      <td>0</td>\n",
       "      <td>23.3</td>\n",
       "      <td>0.672</td>\n",
       "      <td>32</td>\n",
       "      <td>1</td>\n",
       "    </tr>\n",
       "    <tr>\n",
       "      <th>3</th>\n",
       "      <td>1</td>\n",
       "      <td>89</td>\n",
       "      <td>66</td>\n",
       "      <td>23</td>\n",
       "      <td>94</td>\n",
       "      <td>28.1</td>\n",
       "      <td>0.167</td>\n",
       "      <td>21</td>\n",
       "      <td>0</td>\n",
       "    </tr>\n",
       "    <tr>\n",
       "      <th>4</th>\n",
       "      <td>0</td>\n",
       "      <td>137</td>\n",
       "      <td>40</td>\n",
       "      <td>35</td>\n",
       "      <td>168</td>\n",
       "      <td>43.1</td>\n",
       "      <td>2.288</td>\n",
       "      <td>33</td>\n",
       "      <td>1</td>\n",
       "    </tr>\n",
       "  </tbody>\n",
       "</table>\n",
       "</div>"
      ],
      "text/plain": [
       "   Pregnancies  Glucose  BloodPressure  SkinThickness  Insulin   BMI  \\\n",
       "0            6      148             72             35        0  33.6   \n",
       "1            1       85             66             29        0  26.6   \n",
       "2            8      183             64              0        0  23.3   \n",
       "3            1       89             66             23       94  28.1   \n",
       "4            0      137             40             35      168  43.1   \n",
       "\n",
       "   DiabetesPedigreeFunction  Age  Outcome  \n",
       "0                     0.627   50        1  \n",
       "1                     0.351   31        0  \n",
       "2                     0.672   32        1  \n",
       "3                     0.167   21        0  \n",
       "4                     2.288   33        1  "
      ]
     },
     "execution_count": 119,
     "metadata": {},
     "output_type": "execute_result"
    }
   ],
   "source": [
    "df.head()"
   ]
  },
  {
   "cell_type": "code",
   "execution_count": 120,
   "metadata": {},
   "outputs": [
    {
     "data": {
      "text/plain": [
       "True     394\n",
       "False    374\n",
       "Name: Insulin, dtype: int64"
      ]
     },
     "execution_count": 120,
     "metadata": {},
     "output_type": "execute_result"
    }
   ],
   "source": [
    "## 학습, 예측 데이터셋 나누기\n",
    "(df['Insulin']>0).value_counts()"
   ]
  },
  {
   "cell_type": "code",
   "execution_count": 121,
   "metadata": {},
   "outputs": [
    {
     "data": {
      "text/plain": [
       "(394, 9)"
      ]
     },
     "execution_count": 121,
     "metadata": {},
     "output_type": "execute_result"
    }
   ],
   "source": [
    "train = df[df['Insulin']>0].copy()\n",
    "train.shape"
   ]
  },
  {
   "cell_type": "code",
   "execution_count": 122,
   "metadata": {},
   "outputs": [
    {
     "data": {
      "text/plain": [
       "(374, 9)"
      ]
     },
     "execution_count": 122,
     "metadata": {},
     "output_type": "execute_result"
    }
   ],
   "source": [
    "test = df[df['Insulin']==0].copy()\n",
    "test.shape"
   ]
  },
  {
   "cell_type": "markdown",
   "metadata": {},
   "source": [
    "### EDA\n",
    " - 이상치 제거하기"
   ]
  },
  {
   "cell_type": "code",
   "execution_count": 123,
   "metadata": {},
   "outputs": [
    {
     "name": "stderr",
     "output_type": "stream",
     "text": [
      "C:\\anaconda3\\lib\\site-packages\\seaborn\\distributions.py:2557: FutureWarning: `distplot` is a deprecated function and will be removed in a future version. Please adapt your code to use either `displot` (a figure-level function with similar flexibility) or `histplot` (an axes-level function for histograms).\n",
      "  warnings.warn(msg, FutureWarning)\n"
     ]
    },
    {
     "data": {
      "text/plain": [
       "<AxesSubplot:xlabel='Insulin', ylabel='Density'>"
      ]
     },
     "execution_count": 123,
     "metadata": {},
     "output_type": "execute_result"
    },
    {
     "data": {
      "image/png": "[encoded data removed]",
      "text/plain": [
       "<Figure size 432x288 with 1 Axes>"
      ]
     },
     "metadata": {
      "needs_background": "light"
     },
     "output_type": "display_data"
    }
   ],
   "source": [
    "sns.distplot(train['Insulin'])"
   ]
  },
  {
   "cell_type": "code",
   "execution_count": 124,
   "metadata": {},
   "outputs": [
    {
     "name": "stderr",
     "output_type": "stream",
     "text": [
      "C:\\anaconda3\\lib\\site-packages\\seaborn\\_decorators.py:36: FutureWarning: Pass the following variable as a keyword arg: x. From version 0.12, the only valid positional argument will be `data`, and passing other arguments without an explicit keyword will result in an error or misinterpretation.\n",
      "  warnings.warn(\n"
     ]
    },
    {
     "data": {
      "text/plain": [
       "<AxesSubplot:xlabel='Insulin'>"
      ]
     },
     "execution_count": 124,
     "metadata": {},
     "output_type": "execute_result"
    },
    {
     "data": {
      "image/png": "[encoded data removed]",
      "text/plain": [
       "<Figure size 432x288 with 1 Axes>"
      ]
     },
     "metadata": {
      "needs_background": "light"
     },
     "output_type": "display_data"
    }
   ],
   "source": [
    "sns.boxplot(train['Insulin'])"
   ]
  },
  {
   "cell_type": "code",
   "execution_count": 125,
   "metadata": {},
   "outputs": [
    {
     "data": {
      "text/plain": [
       "count    394.000000\n",
       "mean     155.548223\n",
       "std      118.775855\n",
       "min       14.000000\n",
       "25%       76.250000\n",
       "50%      125.000000\n",
       "75%      190.000000\n",
       "max      846.000000\n",
       "Name: Insulin, dtype: float64"
      ]
     },
     "execution_count": 125,
     "metadata": {},
     "output_type": "execute_result"
    }
   ],
   "source": [
    "desc = train['Insulin'].describe()\n",
    "desc"
   ]
  },
  {
   "cell_type": "code",
   "execution_count": 126,
   "metadata": {},
   "outputs": [],
   "source": [
    "#이상치 구하기\n",
    "# IQR = 3IQR - 1IQR\n",
    "# 이상치  = 3IQR + (1.5 * IQR)\n",
    "\n",
    "IQR = desc.loc['75%'] - desc.loc['25%']\n",
    "OUT = desc.loc['75%'] + (IQR *1.5)"
   ]
  },
  {
   "cell_type": "code",
   "execution_count": 127,
   "metadata": {},
   "outputs": [
    {
     "data": {
      "text/plain": [
       "(24, 9)"
      ]
     },
     "execution_count": 127,
     "metadata": {},
     "output_type": "execute_result"
    }
   ],
   "source": [
    "#이상치 값이 몇개인지확인\n",
    "train[train['Insulin']>OUT].shape"
   ]
  },
  {
   "cell_type": "code",
   "execution_count": 128,
   "metadata": {},
   "outputs": [
    {
     "data": {
      "text/plain": [
       "(390, 9)"
      ]
     },
     "execution_count": 128,
     "metadata": {},
     "output_type": "execute_result"
    }
   ],
   "source": [
    "#24개를 제거하면 train세트가 적어지기 때문에 먼저 600이상의 이상치만 제거\n",
    "train = train[train['Insulin']<600]\n",
    "train.shape"
   ]
  },
  {
   "cell_type": "code",
   "execution_count": 129,
   "metadata": {},
   "outputs": [
    {
     "data": {
      "text/plain": [
       "(370, 9)"
      ]
     },
     "execution_count": 129,
     "metadata": {},
     "output_type": "execute_result"
    }
   ],
   "source": [
    "# 이상치를 제거할 경우\n",
    "train = train[train['Insulin']<OUT]\n",
    "train.shape"
   ]
  },
  {
   "cell_type": "code",
   "execution_count": 130,
   "metadata": {},
   "outputs": [
    {
     "data": {
      "text/plain": [
       "['Pregnancies',\n",
       " 'Glucose',\n",
       " 'BloodPressure',\n",
       " 'SkinThickness',\n",
       " 'BMI',\n",
       " 'DiabetesPedigreeFunction',\n",
       " 'Age',\n",
       " 'Outcome']"
      ]
     },
     "execution_count": 130,
     "metadata": {},
     "output_type": "execute_result"
    }
   ],
   "source": [
    "##학습, 예측에 사용할 컬럼\n",
    "df.columns\n",
    "feature_names = df.columns.tolist()\n",
    "feature_names.remove('Insulin')\n",
    "feature_names"
   ]
  },
  {
   "cell_type": "code",
   "execution_count": 131,
   "metadata": {},
   "outputs": [
    {
     "data": {
      "text/plain": [
       "'Insulin'"
      ]
     },
     "execution_count": 131,
     "metadata": {},
     "output_type": "execute_result"
    }
   ],
   "source": [
    "#예측할 값 정하기\n",
    "label_name = 'Insulin'\n",
    "label_name"
   ]
  },
  {
   "cell_type": "code",
   "execution_count": 132,
   "metadata": {},
   "outputs": [
    {
     "data": {
      "text/plain": [
       "(370, 8)"
      ]
     },
     "execution_count": 132,
     "metadata": {},
     "output_type": "execute_result"
    }
   ],
   "source": [
    "#학습데이터와 예측 데이터 나누기\n",
    "X_train = train[feature_names]\n",
    "X_train.shape"
   ]
  },
  {
   "cell_type": "code",
   "execution_count": 133,
   "metadata": {},
   "outputs": [
    {
     "data": {
      "text/plain": [
       "(370,)"
      ]
     },
     "execution_count": 133,
     "metadata": {},
     "output_type": "execute_result"
    }
   ],
   "source": [
    "y_train =train[label_name]\n",
    "y_train.shape"
   ]
  },
  {
   "cell_type": "code",
   "execution_count": 134,
   "metadata": {},
   "outputs": [
    {
     "data": {
      "text/plain": [
       "(374, 8)"
      ]
     },
     "execution_count": 134,
     "metadata": {},
     "output_type": "execute_result"
    }
   ],
   "source": [
    "#예측데이터\n",
    "X_test = test[feature_names]\n",
    "X_test.shape"
   ]
  },
  {
   "cell_type": "code",
   "execution_count": 135,
   "metadata": {},
   "outputs": [
    {
     "data": {
      "text/plain": [
       "(374,)"
      ]
     },
     "execution_count": 135,
     "metadata": {},
     "output_type": "execute_result"
    }
   ],
   "source": [
    "y_test= test[label_name]\n",
    "y_test.shape"
   ]
  },
  {
   "cell_type": "markdown",
   "metadata": {},
   "source": [
    "#### 머신러닝 알고리즘 가져오기"
   ]
  },
  {
   "cell_type": "code",
   "execution_count": 136,
   "metadata": {},
   "outputs": [
    {
     "data": {
      "text/plain": [
       "DecisionTreeRegressor(random_state=42)"
      ]
     },
     "execution_count": 136,
     "metadata": {},
     "output_type": "execute_result"
    }
   ],
   "source": [
    "from sklearn.tree import DecisionTreeRegressor\n",
    "\n",
    "model = DecisionTreeRegressor(random_state = 42)\n",
    "model"
   ]
  },
  {
   "cell_type": "code",
   "execution_count": 137,
   "metadata": {},
   "outputs": [
    {
     "data": {
      "text/plain": [
       "DecisionTreeRegressor(random_state=42)"
      ]
     },
     "execution_count": 137,
     "metadata": {},
     "output_type": "execute_result"
    }
   ],
   "source": [
    "model.fit(X_train,y_train)"
   ]
  },
  {
   "cell_type": "code",
   "execution_count": 138,
   "metadata": {},
   "outputs": [
    {
     "name": "stderr",
     "output_type": "stream",
     "text": [
      "[Parallel(n_jobs=-1)]: Using backend LokyBackend with 8 concurrent workers.\n",
      "[Parallel(n_jobs=-1)]: Done   2 out of   5 | elapsed:    5.8s remaining:    8.7s\n",
      "[Parallel(n_jobs=-1)]: Done   5 out of   5 | elapsed:    5.8s remaining:    0.0s\n",
      "[Parallel(n_jobs=-1)]: Done   5 out of   5 | elapsed:    5.8s finished\n"
     ]
    },
    {
     "data": {
      "text/plain": [
       "array([ 25., 182.,  55., 144., 220.,  83., 176., 310.,  90., 120.])"
      ]
     },
     "execution_count": 138,
     "metadata": {},
     "output_type": "execute_result"
    }
   ],
   "source": [
    "#Cross Validation으로 학습세트의 오차를 측정한다.\n",
    "\n",
    "from sklearn.model_selection import cross_val_predict\n",
    "\n",
    "y_predict  = cross_val_predict(model, X_train, y_train, cv=5, verbose = 2, n_jobs =-1)\n",
    "y_predict[:10]"
   ]
  },
  {
   "cell_type": "markdown",
   "metadata": {},
   "source": [
    " - cv : 테스트를 몇번 반복할지 \n",
    "     - cv가 많으면 많을수록 시간이 오래걸리지만 정확도가 높아진다\n",
    "     \n",
    " - verbose : 로그를 표시할지 말지\n",
    " "
   ]
  },
  {
   "cell_type": "code",
   "execution_count": 139,
   "metadata": {},
   "outputs": [
    {
     "data": {
      "text/plain": [
       "7"
      ]
     },
     "execution_count": 139,
     "metadata": {},
     "output_type": "execute_result"
    }
   ],
   "source": [
    "#정답을 정확하게 맞추 개수\n",
    "(y_predict == y_train).sum()"
   ]
  },
  {
   "cell_type": "code",
   "execution_count": 140,
   "metadata": {},
   "outputs": [
    {
     "name": "stderr",
     "output_type": "stream",
     "text": [
      "C:\\anaconda3\\lib\\site-packages\\seaborn\\_decorators.py:36: FutureWarning: Pass the following variables as keyword args: x, y. From version 0.12, the only valid positional argument will be `data`, and passing other arguments without an explicit keyword will result in an error or misinterpretation.\n",
      "  warnings.warn(\n"
     ]
    },
    {
     "data": {
      "text/plain": [
       "<AxesSubplot:xlabel='Insulin'>"
      ]
     },
     "execution_count": 140,
     "metadata": {},
     "output_type": "execute_result"
    },
    {
     "data": {
      "image/png": "[encoded data removed]",
      "text/plain": [
       "<Figure size 432x288 with 1 Axes>"
      ]
     },
     "metadata": {
      "needs_background": "light"
     },
     "output_type": "display_data"
    }
   ],
   "source": [
    "sns.regplot(y_train, y_predict)\n",
    "#200미만의 값은 예측을 잘 했지만 200 이상의 값들은 실제값과 예측값의 차이가 크다\n",
    "#기울기로 보면 된다."
   ]
  },
  {
   "cell_type": "code",
   "execution_count": 141,
   "metadata": {},
   "outputs": [
    {
     "data": {
      "text/plain": [
       "-0.28551906710833275"
      ]
     },
     "execution_count": 141,
     "metadata": {},
     "output_type": "execute_result"
    }
   ],
   "source": [
    "from sklearn.metrics import r2_score\n",
    "r2_score(y_train, y_predict)\n",
    "#회귀가 잘 되었는지 측정하는 함수\n",
    "#1에 가까워야 잘 예측한 것이다."
   ]
  },
  {
   "cell_type": "code",
   "execution_count": 142,
   "metadata": {},
   "outputs": [
    {
     "name": "stderr",
     "output_type": "stream",
     "text": [
      "C:\\anaconda3\\lib\\site-packages\\seaborn\\distributions.py:2557: FutureWarning: `distplot` is a deprecated function and will be removed in a future version. Please adapt your code to use either `displot` (a figure-level function with similar flexibility) or `kdeplot` (an axes-level function for kernel density plots).\n",
      "  warnings.warn(msg, FutureWarning)\n",
      "C:\\anaconda3\\lib\\site-packages\\seaborn\\distributions.py:2557: FutureWarning: `distplot` is a deprecated function and will be removed in a future version. Please adapt your code to use either `displot` (a figure-level function with similar flexibility) or `kdeplot` (an axes-level function for kernel density plots).\n",
      "  warnings.warn(msg, FutureWarning)\n"
     ]
    },
    {
     "data": {
      "text/plain": [
       "<AxesSubplot:xlabel='Insulin', ylabel='Density'>"
      ]
     },
     "execution_count": 142,
     "metadata": {},
     "output_type": "execute_result"
    },
    {
     "data": {
      "image/png": "[encoded data removed]",
      "text/plain": [
       "<Figure size 432x288 with 1 Axes>"
      ]
     },
     "metadata": {
      "needs_background": "light"
     },
     "output_type": "display_data"
    }
   ],
   "source": [
    "sns.distplot(y_train,hist = False, label ='train')\n",
    "sns.distplot(y_predict , hist = False,label ='test')"
   ]
  },
  {
   "cell_type": "markdown",
   "metadata": {},
   "source": [
    "## RandomizedSearchCV로 최적의 파라미트 찾기"
   ]
  },
  {
   "cell_type": "code",
   "execution_count": 143,
   "metadata": {},
   "outputs": [
    {
     "data": {
      "text/plain": [
       "[DecisionTreeRegressor(random_state=42),\n",
       " RandomForestRegressor(random_state=42),\n",
       " GradientBoostingRegressor(random_state=42)]"
      ]
     },
     "execution_count": 143,
     "metadata": {},
     "output_type": "execute_result"
    }
   ],
   "source": [
    "from sklearn.tree import DecisionTreeRegressor\n",
    "from sklearn.ensemble import RandomForestRegressor, GradientBoostingRegressor\n",
    "\n",
    "estimators =[DecisionTreeRegressor(random_state =42),\n",
    "            RandomForestRegressor(random_state = 42),\n",
    "            GradientBoostingRegressor(random_state = 42)]\n",
    "\n",
    "estimators\n",
    "\n"
   ]
  },
  {
   "cell_type": "code",
   "execution_count": 144,
   "metadata": {},
   "outputs": [
    {
     "data": {
      "text/html": [
       "<div>\n",
       "<style scoped>\n",
       "    .dataframe tbody tr th:only-of-type {\n",
       "        vertical-align: middle;\n",
       "    }\n",
       "\n",
       "    .dataframe tbody tr th {\n",
       "        vertical-align: top;\n",
       "    }\n",
       "\n",
       "    .dataframe thead th {\n",
       "        text-align: right;\n",
       "    }\n",
       "</style>\n",
       "<table border=\"1\" class=\"dataframe\">\n",
       "  <thead>\n",
       "    <tr style=\"text-align: right;\">\n",
       "      <th></th>\n",
       "      <th>0</th>\n",
       "    </tr>\n",
       "  </thead>\n",
       "  <tbody>\n",
       "    <tr>\n",
       "      <th>0</th>\n",
       "      <td>DecisionTreeRegressor</td>\n",
       "    </tr>\n",
       "    <tr>\n",
       "      <th>1</th>\n",
       "      <td>RandomForestRegressor</td>\n",
       "    </tr>\n",
       "    <tr>\n",
       "      <th>2</th>\n",
       "      <td>GradientBoostingRegressor</td>\n",
       "    </tr>\n",
       "  </tbody>\n",
       "</table>\n",
       "</div>"
      ],
      "text/plain": [
       "                           0\n",
       "0      DecisionTreeRegressor\n",
       "1      RandomForestRegressor\n",
       "2  GradientBoostingRegressor"
      ]
     },
     "execution_count": 144,
     "metadata": {},
     "output_type": "execute_result"
    }
   ],
   "source": [
    "results = []\n",
    "for estimator in estimators :\n",
    "    result =[]\n",
    "    result.append(estimator.__class__.__name__)\n",
    "    results.append(result)\n",
    "    \n",
    "pd.DataFrame(results)"
   ]
  },
  {
   "cell_type": "code",
   "execution_count": 145,
   "metadata": {},
   "outputs": [
    {
     "data": {
      "text/plain": [
       "array([20, 12, 17, 17, 22, 18, 26, 28, 29, 18])"
      ]
     },
     "execution_count": 145,
     "metadata": {},
     "output_type": "execute_result"
    }
   ],
   "source": [
    "max_depth = np.random.randint(5,30,10)\n",
    "max_depth"
   ]
  },
  {
   "cell_type": "code",
   "execution_count": 146,
   "metadata": {},
   "outputs": [
    {
     "data": {
      "text/plain": [
       "array([0.99833051, 0.97467992, 0.61707116, 0.46272286, 0.8330596 ,\n",
       "       0.44205848, 0.85826854, 0.31284354, 0.34236104, 0.27395552])"
      ]
     },
     "execution_count": 146,
     "metadata": {},
     "output_type": "execute_result"
    }
   ],
   "source": [
    "max_features = np.random.uniform(0.2,1.0,10)\n",
    "max_features"
   ]
  },
  {
   "cell_type": "code",
   "execution_count": 147,
   "metadata": {
    "scrolled": false
   },
   "outputs": [
    {
     "name": "stdout",
     "output_type": "stream",
     "text": [
      "Fitting 5 folds for each of 10 candidates, totalling 50 fits\n",
      "[CV] max_features=0.4782009909945142, max_depth=13 ...................\n",
      "[CV] .... max_features=0.4782009909945142, max_depth=13, total=   0.0s\n",
      "[CV] max_features=0.4782009909945142, max_depth=13 ...................\n",
      "[CV] .... max_features=0.4782009909945142, max_depth=13, total=   0.0s\n",
      "[CV] max_features=0.4782009909945142, max_depth=13 ...................\n",
      "[CV] .... max_features=0.4782009909945142, max_depth=13, total=   0.0s\n",
      "[CV] max_features=0.4782009909945142, max_depth=13 ...................\n",
      "[CV] .... max_features=0.4782009909945142, max_depth=13, total=   0.0s\n",
      "[CV] max_features=0.4782009909945142, max_depth=13 ...................\n",
      "[CV] .... max_features=0.4782009909945142, max_depth=13, total=   0.0s\n",
      "[CV] max_features=0.4782009909945142, max_depth=24 ...................\n",
      "[CV] .... max_features=0.4782009909945142, max_depth=24, total=   0.0s\n",
      "[CV] max_features=0.4782009909945142, max_depth=24 ...................\n",
      "[CV] .... max_features=0.4782009909945142, max_depth=24, total=   0.0s\n",
      "[CV] max_features=0.4782009909945142, max_depth=24 ...................\n",
      "[CV] .... max_features=0.4782009909945142, max_depth=24, total=   0.0s\n",
      "[CV] max_features=0.4782009909945142, max_depth=24 ...................\n",
      "[CV] .... max_features=0.4782009909945142, max_depth=24, total=   0.0s\n",
      "[CV] max_features=0.4782009909945142, max_depth=24 ...................\n",
      "[CV] .... max_features=0.4782009909945142, max_depth=24, total=   0.0s\n",
      "[CV] max_features=0.9705862973669148, max_depth=18 ...................\n",
      "[CV] .... max_features=0.9705862973669148, max_depth=18, total=   0.0s\n",
      "[CV] max_features=0.9705862973669148, max_depth=18 ...................\n",
      "[CV] .... max_features=0.9705862973669148, max_depth=18, total=   0.0s\n",
      "[CV] max_features=0.9705862973669148, max_depth=18 ...................\n",
      "[CV] .... max_features=0.9705862973669148, max_depth=18, total=   0.0s\n",
      "[CV] max_features=0.9705862973669148, max_depth=18 ...................\n",
      "[CV] .... max_features=0.9705862973669148, max_depth=18, total=   0.0s\n",
      "[CV] max_features=0.9705862973669148, max_depth=18 ...................\n",
      "[CV] .... max_features=0.9705862973669148, max_depth=18, total=   0.0s\n",
      "[CV] max_features=0.7627400273539306, max_depth=14 ...................\n",
      "[CV] .... max_features=0.7627400273539306, max_depth=14, total=   0.0s\n",
      "[CV] max_features=0.7627400273539306, max_depth=14 ...................\n",
      "[CV] .... max_features=0.7627400273539306, max_depth=14, total=   0.0s\n",
      "[CV] max_features=0.7627400273539306, max_depth=14 ...................\n",
      "[CV] .... max_features=0.7627400273539306, max_depth=14, total=   0.0s\n",
      "[CV] max_features=0.7627400273539306, max_depth=14 ...................\n",
      "[CV] .... max_features=0.7627400273539306, max_depth=14, total=   0.0s\n",
      "[CV] max_features=0.7627400273539306, max_depth=14 ...................\n",
      "[CV] .... max_features=0.7627400273539306, max_depth=14, total=   0.0s\n",
      "[CV] max_features=0.2311421060322834, max_depth=14 ...................\n",
      "[CV] .... max_features=0.2311421060322834, max_depth=14, total=   0.0s\n",
      "[CV] max_features=0.2311421060322834, max_depth=14 ...................\n",
      "[CV] .... max_features=0.2311421060322834, max_depth=14, total=   0.0s\n",
      "[CV] max_features=0.2311421060322834, max_depth=14 ...................\n",
      "[CV] .... max_features=0.2311421060322834, max_depth=14, total=   0.0s\n",
      "[CV] max_features=0.2311421060322834, max_depth=14 ...................\n",
      "[CV] .... max_features=0.2311421060322834, max_depth=14, total=   0.0s\n",
      "[CV] max_features=0.2311421060322834, max_depth=14 ...................\n",
      "[CV] .... max_features=0.2311421060322834, max_depth=14, total=   0.0s\n",
      "[CV] max_features=0.40129865284424854, max_depth=6 ...................\n",
      "[CV] .... max_features=0.40129865284424854, max_depth=6, total=   0.0s\n",
      "[CV] max_features=0.40129865284424854, max_depth=6 ...................\n",
      "[CV] .... max_features=0.40129865284424854, max_depth=6, total=   0.0s\n",
      "[CV] max_features=0.40129865284424854, max_depth=6 ...................\n",
      "[CV] .... max_features=0.40129865284424854, max_depth=6, total=   0.0s\n",
      "[CV] max_features=0.40129865284424854, max_depth=6 ...................\n",
      "[CV] .... max_features=0.40129865284424854, max_depth=6, total=   0.0s\n",
      "[CV] max_features=0.40129865284424854, max_depth=6 ...................\n",
      "[CV] .... max_features=0.40129865284424854, max_depth=6, total=   0.0s\n",
      "[CV] max_features=0.49298722640990356, max_depth=12 ..................\n",
      "[CV] ... max_features=0.49298722640990356, max_depth=12, total=   0.0s\n",
      "[CV] max_features=0.49298722640990356, max_depth=12 ..................\n",
      "[CV] ... max_features=0.49298722640990356, max_depth=12, total=   0.0s\n",
      "[CV] max_features=0.49298722640990356, max_depth=12 ..................\n",
      "[CV] ... max_features=0.49298722640990356, max_depth=12, total=   0.0s\n",
      "[CV] max_features=0.49298722640990356, max_depth=12 ..................\n",
      "[CV] ... max_features=0.49298722640990356, max_depth=12, total=   0.0s\n",
      "[CV] max_features=0.49298722640990356, max_depth=12 ..................\n",
      "[CV] ... max_features=0.49298722640990356, max_depth=12, total=   0.0s\n",
      "[CV] max_features=0.9705862973669148, max_depth=13 ...................\n"
     ]
    },
    {
     "name": "stderr",
     "output_type": "stream",
     "text": [
      "[Parallel(n_jobs=1)]: Using backend SequentialBackend with 1 concurrent workers.\n",
      "[Parallel(n_jobs=1)]: Done   1 out of   1 | elapsed:    0.0s remaining:    0.0s\n"
     ]
    },
    {
     "name": "stdout",
     "output_type": "stream",
     "text": [
      "[CV] .... max_features=0.9705862973669148, max_depth=13, total=   0.0s\n",
      "[CV] max_features=0.9705862973669148, max_depth=13 ...................\n",
      "[CV] .... max_features=0.9705862973669148, max_depth=13, total=   0.0s\n",
      "[CV] max_features=0.9705862973669148, max_depth=13 ...................\n",
      "[CV] .... max_features=0.9705862973669148, max_depth=13, total=   0.0s\n",
      "[CV] max_features=0.9705862973669148, max_depth=13 ...................\n",
      "[CV] .... max_features=0.9705862973669148, max_depth=13, total=   0.0s\n",
      "[CV] max_features=0.9705862973669148, max_depth=13 ...................\n",
      "[CV] .... max_features=0.9705862973669148, max_depth=13, total=   0.0s\n",
      "[CV] max_features=0.9705862973669148, max_depth=25 ...................\n",
      "[CV] .... max_features=0.9705862973669148, max_depth=25, total=   0.0s\n",
      "[CV] max_features=0.9705862973669148, max_depth=25 ...................\n",
      "[CV] .... max_features=0.9705862973669148, max_depth=25, total=   0.0s\n",
      "[CV] max_features=0.9705862973669148, max_depth=25 ...................\n",
      "[CV] .... max_features=0.9705862973669148, max_depth=25, total=   0.0s\n",
      "[CV] max_features=0.9705862973669148, max_depth=25 ...................\n",
      "[CV] .... max_features=0.9705862973669148, max_depth=25, total=   0.0s\n",
      "[CV] max_features=0.9705862973669148, max_depth=25 ...................\n",
      "[CV] .... max_features=0.9705862973669148, max_depth=25, total=   0.0s\n",
      "[CV] max_features=0.9705862973669148, max_depth=19 ...................\n",
      "[CV] .... max_features=0.9705862973669148, max_depth=19, total=   0.0s\n",
      "[CV] max_features=0.9705862973669148, max_depth=19 ...................\n",
      "[CV] .... max_features=0.9705862973669148, max_depth=19, total=   0.0s\n",
      "[CV] max_features=0.9705862973669148, max_depth=19 ...................\n",
      "[CV] .... max_features=0.9705862973669148, max_depth=19, total=   0.0s\n",
      "[CV] max_features=0.9705862973669148, max_depth=19 ...................\n",
      "[CV] .... max_features=0.9705862973669148, max_depth=19, total=   0.0s\n",
      "[CV] max_features=0.9705862973669148, max_depth=19 ...................\n",
      "[CV] .... max_features=0.9705862973669148, max_depth=19, total=   0.0s\n",
      "Fitting 5 folds for each of 10 candidates, totalling 50 fits\n",
      "[CV] max_features=0.24469845476369942, max_depth=13 ..................\n"
     ]
    },
    {
     "name": "stderr",
     "output_type": "stream",
     "text": [
      "[Parallel(n_jobs=1)]: Done  50 out of  50 | elapsed:    0.2s finished\n",
      "[Parallel(n_jobs=1)]: Using backend SequentialBackend with 1 concurrent workers.\n",
      "[Parallel(n_jobs=1)]: Done   1 out of   1 | elapsed:    0.0s remaining:    0.0s\n"
     ]
    },
    {
     "name": "stdout",
     "output_type": "stream",
     "text": [
      "[CV] ... max_features=0.24469845476369942, max_depth=13, total=   0.1s\n",
      "[CV] max_features=0.24469845476369942, max_depth=13 ..................\n",
      "[CV] ... max_features=0.24469845476369942, max_depth=13, total=   0.1s\n",
      "[CV] max_features=0.24469845476369942, max_depth=13 ..................\n",
      "[CV] ... max_features=0.24469845476369942, max_depth=13, total=   0.1s\n",
      "[CV] max_features=0.24469845476369942, max_depth=13 ..................\n",
      "[CV] ... max_features=0.24469845476369942, max_depth=13, total=   0.1s\n",
      "[CV] max_features=0.24469845476369942, max_depth=13 ..................\n",
      "[CV] ... max_features=0.24469845476369942, max_depth=13, total=   0.2s\n",
      "[CV] max_features=0.24469845476369942, max_depth=10 ..................\n",
      "[CV] ... max_features=0.24469845476369942, max_depth=10, total=   0.1s\n",
      "[CV] max_features=0.24469845476369942, max_depth=10 ..................\n",
      "[CV] ... max_features=0.24469845476369942, max_depth=10, total=   0.2s\n",
      "[CV] max_features=0.24469845476369942, max_depth=10 ..................\n",
      "[CV] ... max_features=0.24469845476369942, max_depth=10, total=   0.1s\n",
      "[CV] max_features=0.24469845476369942, max_depth=10 ..................\n",
      "[CV] ... max_features=0.24469845476369942, max_depth=10, total=   0.2s\n",
      "[CV] max_features=0.24469845476369942, max_depth=10 ..................\n",
      "[CV] ... max_features=0.24469845476369942, max_depth=10, total=   0.1s\n",
      "[CV] max_features=0.2072453399078655, max_depth=8 ....................\n",
      "[CV] ..... max_features=0.2072453399078655, max_depth=8, total=   0.1s\n",
      "[CV] max_features=0.2072453399078655, max_depth=8 ....................\n",
      "[CV] ..... max_features=0.2072453399078655, max_depth=8, total=   0.1s\n",
      "[CV] max_features=0.2072453399078655, max_depth=8 ....................\n",
      "[CV] ..... max_features=0.2072453399078655, max_depth=8, total=   0.1s\n",
      "[CV] max_features=0.2072453399078655, max_depth=8 ....................\n",
      "[CV] ..... max_features=0.2072453399078655, max_depth=8, total=   0.1s\n",
      "[CV] max_features=0.2072453399078655, max_depth=8 ....................\n",
      "[CV] ..... max_features=0.2072453399078655, max_depth=8, total=   0.1s\n",
      "[CV] max_features=0.6025276005176947, max_depth=19 ...................\n",
      "[CV] .... max_features=0.6025276005176947, max_depth=19, total=   0.2s\n",
      "[CV] max_features=0.6025276005176947, max_depth=19 ...................\n",
      "[CV] .... max_features=0.6025276005176947, max_depth=19, total=   0.2s\n",
      "[CV] max_features=0.6025276005176947, max_depth=19 ...................\n",
      "[CV] .... max_features=0.6025276005176947, max_depth=19, total=   0.2s\n",
      "[CV] max_features=0.6025276005176947, max_depth=19 ...................\n",
      "[CV] .... max_features=0.6025276005176947, max_depth=19, total=   0.2s\n",
      "[CV] max_features=0.6025276005176947, max_depth=19 ...................\n",
      "[CV] .... max_features=0.6025276005176947, max_depth=19, total=   0.2s\n",
      "[CV] max_features=0.910875569816521, max_depth=19 ....................\n",
      "[CV] ..... max_features=0.910875569816521, max_depth=19, total=   0.3s\n",
      "[CV] max_features=0.910875569816521, max_depth=19 ....................\n",
      "[CV] ..... max_features=0.910875569816521, max_depth=19, total=   0.2s\n",
      "[CV] max_features=0.910875569816521, max_depth=19 ....................\n",
      "[CV] ..... max_features=0.910875569816521, max_depth=19, total=   0.2s\n",
      "[CV] max_features=0.910875569816521, max_depth=19 ....................\n",
      "[CV] ..... max_features=0.910875569816521, max_depth=19, total=   0.2s\n",
      "[CV] max_features=0.910875569816521, max_depth=19 ....................\n",
      "[CV] ..... max_features=0.910875569816521, max_depth=19, total=   0.2s\n",
      "[CV] max_features=0.2328812768075782, max_depth=20 ...................\n",
      "[CV] .... max_features=0.2328812768075782, max_depth=20, total=   0.2s\n",
      "[CV] max_features=0.2328812768075782, max_depth=20 ...................\n",
      "[CV] .... max_features=0.2328812768075782, max_depth=20, total=   0.2s\n",
      "[CV] max_features=0.2328812768075782, max_depth=20 ...................\n",
      "[CV] .... max_features=0.2328812768075782, max_depth=20, total=   0.1s\n",
      "[CV] max_features=0.2328812768075782, max_depth=20 ...................\n",
      "[CV] .... max_features=0.2328812768075782, max_depth=20, total=   0.1s\n",
      "[CV] max_features=0.2328812768075782, max_depth=20 ...................\n",
      "[CV] .... max_features=0.2328812768075782, max_depth=20, total=   0.1s\n",
      "[CV] max_features=0.4709884484107691, max_depth=26 ...................\n",
      "[CV] .... max_features=0.4709884484107691, max_depth=26, total=   0.2s\n",
      "[CV] max_features=0.4709884484107691, max_depth=26 ...................\n",
      "[CV] .... max_features=0.4709884484107691, max_depth=26, total=   0.2s\n",
      "[CV] max_features=0.4709884484107691, max_depth=26 ...................\n",
      "[CV] .... max_features=0.4709884484107691, max_depth=26, total=   0.3s\n",
      "[CV] max_features=0.4709884484107691, max_depth=26 ...................\n",
      "[CV] .... max_features=0.4709884484107691, max_depth=26, total=   0.2s\n",
      "[CV] max_features=0.4709884484107691, max_depth=26 ...................\n",
      "[CV] .... max_features=0.4709884484107691, max_depth=26, total=   0.2s\n",
      "[CV] max_features=0.2072453399078655, max_depth=13 ...................\n",
      "[CV] .... max_features=0.2072453399078655, max_depth=13, total=   0.1s\n",
      "[CV] max_features=0.2072453399078655, max_depth=13 ...................\n",
      "[CV] .... max_features=0.2072453399078655, max_depth=13, total=   0.2s\n",
      "[CV] max_features=0.2072453399078655, max_depth=13 ...................\n",
      "[CV] .... max_features=0.2072453399078655, max_depth=13, total=   0.2s\n",
      "[CV] max_features=0.2072453399078655, max_depth=13 ...................\n",
      "[CV] .... max_features=0.2072453399078655, max_depth=13, total=   0.2s\n",
      "[CV] max_features=0.2072453399078655, max_depth=13 ...................\n",
      "[CV] .... max_features=0.2072453399078655, max_depth=13, total=   0.2s\n",
      "[CV] max_features=0.2072453399078655, max_depth=6 ....................\n",
      "[CV] ..... max_features=0.2072453399078655, max_depth=6, total=   0.2s\n",
      "[CV] max_features=0.2072453399078655, max_depth=6 ....................\n",
      "[CV] ..... max_features=0.2072453399078655, max_depth=6, total=   0.1s\n",
      "[CV] max_features=0.2072453399078655, max_depth=6 ....................\n",
      "[CV] ..... max_features=0.2072453399078655, max_depth=6, total=   0.2s\n",
      "[CV] max_features=0.2072453399078655, max_depth=6 ....................\n",
      "[CV] ..... max_features=0.2072453399078655, max_depth=6, total=   0.3s\n",
      "[CV] max_features=0.2072453399078655, max_depth=6 ....................\n",
      "[CV] ..... max_features=0.2072453399078655, max_depth=6, total=   0.2s\n",
      "[CV] max_features=0.2072453399078655, max_depth=8 ....................\n",
      "[CV] ..... max_features=0.2072453399078655, max_depth=8, total=   0.1s\n",
      "[CV] max_features=0.2072453399078655, max_depth=8 ....................\n",
      "[CV] ..... max_features=0.2072453399078655, max_depth=8, total=   0.2s\n",
      "[CV] max_features=0.2072453399078655, max_depth=8 ....................\n",
      "[CV] ..... max_features=0.2072453399078655, max_depth=8, total=   0.2s\n",
      "[CV] max_features=0.2072453399078655, max_depth=8 ....................\n",
      "[CV] ..... max_features=0.2072453399078655, max_depth=8, total=   0.2s\n",
      "[CV] max_features=0.2072453399078655, max_depth=8 ....................\n",
      "[CV] ..... max_features=0.2072453399078655, max_depth=8, total=   0.2s\n"
     ]
    },
    {
     "name": "stderr",
     "output_type": "stream",
     "text": [
      "[Parallel(n_jobs=1)]: Done  50 out of  50 | elapsed:    8.6s finished\n"
     ]
    },
    {
     "name": "stdout",
     "output_type": "stream",
     "text": [
      "Fitting 5 folds for each of 10 candidates, totalling 50 fits\n",
      "[CV] max_features=0.2608664641024279, max_depth=17 ...................\n",
      "[CV] .... max_features=0.2608664641024279, max_depth=17, total=   0.1s\n",
      "[CV] max_features=0.2608664641024279, max_depth=17 ...................\n"
     ]
    },
    {
     "name": "stderr",
     "output_type": "stream",
     "text": [
      "[Parallel(n_jobs=1)]: Using backend SequentialBackend with 1 concurrent workers.\n",
      "[Parallel(n_jobs=1)]: Done   1 out of   1 | elapsed:    0.0s remaining:    0.0s\n"
     ]
    },
    {
     "name": "stdout",
     "output_type": "stream",
     "text": [
      "[CV] .... max_features=0.2608664641024279, max_depth=17, total=   0.1s\n",
      "[CV] max_features=0.2608664641024279, max_depth=17 ...................\n",
      "[CV] .... max_features=0.2608664641024279, max_depth=17, total=   0.1s\n",
      "[CV] max_features=0.2608664641024279, max_depth=17 ...................\n",
      "[CV] .... max_features=0.2608664641024279, max_depth=17, total=   0.3s\n",
      "[CV] max_features=0.2608664641024279, max_depth=17 ...................\n",
      "[CV] .... max_features=0.2608664641024279, max_depth=17, total=   0.1s\n",
      "[CV] max_features=0.2608664641024279, max_depth=9 ....................\n",
      "[CV] ..... max_features=0.2608664641024279, max_depth=9, total=   0.1s\n",
      "[CV] max_features=0.2608664641024279, max_depth=9 ....................\n",
      "[CV] ..... max_features=0.2608664641024279, max_depth=9, total=   0.1s\n",
      "[CV] max_features=0.2608664641024279, max_depth=9 ....................\n",
      "[CV] ..... max_features=0.2608664641024279, max_depth=9, total=   0.1s\n",
      "[CV] max_features=0.2608664641024279, max_depth=9 ....................\n",
      "[CV] ..... max_features=0.2608664641024279, max_depth=9, total=   0.1s\n",
      "[CV] max_features=0.2608664641024279, max_depth=9 ....................\n",
      "[CV] ..... max_features=0.2608664641024279, max_depth=9, total=   0.1s\n",
      "[CV] max_features=0.8150856380897664, max_depth=24 ...................\n",
      "[CV] .... max_features=0.8150856380897664, max_depth=24, total=   0.2s\n",
      "[CV] max_features=0.8150856380897664, max_depth=24 ...................\n",
      "[CV] .... max_features=0.8150856380897664, max_depth=24, total=   0.2s\n",
      "[CV] max_features=0.8150856380897664, max_depth=24 ...................\n",
      "[CV] .... max_features=0.8150856380897664, max_depth=24, total=   0.2s\n",
      "[CV] max_features=0.8150856380897664, max_depth=24 ...................\n",
      "[CV] .... max_features=0.8150856380897664, max_depth=24, total=   0.2s\n",
      "[CV] max_features=0.8150856380897664, max_depth=24 ...................\n",
      "[CV] .... max_features=0.8150856380897664, max_depth=24, total=   0.1s\n",
      "[CV] max_features=0.7757621743474727, max_depth=17 ...................\n",
      "[CV] .... max_features=0.7757621743474727, max_depth=17, total=   0.1s\n",
      "[CV] max_features=0.7757621743474727, max_depth=17 ...................\n",
      "[CV] .... max_features=0.7757621743474727, max_depth=17, total=   0.2s\n",
      "[CV] max_features=0.7757621743474727, max_depth=17 ...................\n",
      "[CV] .... max_features=0.7757621743474727, max_depth=17, total=   0.3s\n",
      "[CV] max_features=0.7757621743474727, max_depth=17 ...................\n",
      "[CV] .... max_features=0.7757621743474727, max_depth=17, total=   0.2s\n",
      "[CV] max_features=0.7757621743474727, max_depth=17 ...................\n",
      "[CV] .... max_features=0.7757621743474727, max_depth=17, total=   0.2s\n",
      "[CV] max_features=0.9492698737858742, max_depth=17 ...................\n",
      "[CV] .... max_features=0.9492698737858742, max_depth=17, total=   0.2s\n",
      "[CV] max_features=0.9492698737858742, max_depth=17 ...................\n",
      "[CV] .... max_features=0.9492698737858742, max_depth=17, total=   0.2s\n",
      "[CV] max_features=0.9492698737858742, max_depth=17 ...................\n",
      "[CV] .... max_features=0.9492698737858742, max_depth=17, total=   0.2s\n",
      "[CV] max_features=0.9492698737858742, max_depth=17 ...................\n",
      "[CV] .... max_features=0.9492698737858742, max_depth=17, total=   0.2s\n",
      "[CV] max_features=0.9492698737858742, max_depth=17 ...................\n",
      "[CV] .... max_features=0.9492698737858742, max_depth=17, total=   0.2s\n",
      "[CV] max_features=0.4055551231826062, max_depth=18 ...................\n",
      "[CV] .... max_features=0.4055551231826062, max_depth=18, total=   0.1s\n",
      "[CV] max_features=0.4055551231826062, max_depth=18 ...................\n",
      "[CV] .... max_features=0.4055551231826062, max_depth=18, total=   0.1s\n",
      "[CV] max_features=0.4055551231826062, max_depth=18 ...................\n",
      "[CV] .... max_features=0.4055551231826062, max_depth=18, total=   0.1s\n",
      "[CV] max_features=0.4055551231826062, max_depth=18 ...................\n",
      "[CV] .... max_features=0.4055551231826062, max_depth=18, total=   0.1s\n",
      "[CV] max_features=0.4055551231826062, max_depth=18 ...................\n",
      "[CV] .... max_features=0.4055551231826062, max_depth=18, total=   0.1s\n",
      "[CV] max_features=0.3507497902927348, max_depth=20 ...................\n",
      "[CV] .... max_features=0.3507497902927348, max_depth=20, total=   0.2s\n",
      "[CV] max_features=0.3507497902927348, max_depth=20 ...................\n",
      "[CV] .... max_features=0.3507497902927348, max_depth=20, total=   0.1s\n",
      "[CV] max_features=0.3507497902927348, max_depth=20 ...................\n",
      "[CV] .... max_features=0.3507497902927348, max_depth=20, total=   0.1s\n",
      "[CV] max_features=0.3507497902927348, max_depth=20 ...................\n",
      "[CV] .... max_features=0.3507497902927348, max_depth=20, total=   0.1s\n",
      "[CV] max_features=0.3507497902927348, max_depth=20 ...................\n",
      "[CV] .... max_features=0.3507497902927348, max_depth=20, total=   0.1s\n",
      "[CV] max_features=0.8150856380897664, max_depth=17 ...................\n",
      "[CV] .... max_features=0.8150856380897664, max_depth=17, total=   0.2s\n",
      "[CV] max_features=0.8150856380897664, max_depth=17 ...................\n",
      "[CV] .... max_features=0.8150856380897664, max_depth=17, total=   0.2s\n",
      "[CV] max_features=0.8150856380897664, max_depth=17 ...................\n",
      "[CV] .... max_features=0.8150856380897664, max_depth=17, total=   0.2s\n",
      "[CV] max_features=0.8150856380897664, max_depth=17 ...................\n",
      "[CV] .... max_features=0.8150856380897664, max_depth=17, total=   0.2s\n",
      "[CV] max_features=0.8150856380897664, max_depth=17 ...................\n",
      "[CV] .... max_features=0.8150856380897664, max_depth=17, total=   0.2s\n",
      "[CV] max_features=0.8150856380897664, max_depth=21 ...................\n",
      "[CV] .... max_features=0.8150856380897664, max_depth=21, total=   0.3s\n",
      "[CV] max_features=0.8150856380897664, max_depth=21 ...................\n",
      "[CV] .... max_features=0.8150856380897664, max_depth=21, total=   0.3s\n",
      "[CV] max_features=0.8150856380897664, max_depth=21 ...................\n",
      "[CV] .... max_features=0.8150856380897664, max_depth=21, total=   0.2s\n",
      "[CV] max_features=0.8150856380897664, max_depth=21 ...................\n",
      "[CV] .... max_features=0.8150856380897664, max_depth=21, total=   0.2s\n",
      "[CV] max_features=0.8150856380897664, max_depth=21 ...................\n",
      "[CV] .... max_features=0.8150856380897664, max_depth=21, total=   0.2s\n",
      "[CV] max_features=0.8150856380897664, max_depth=25 ...................\n",
      "[CV] .... max_features=0.8150856380897664, max_depth=25, total=   0.2s\n",
      "[CV] max_features=0.8150856380897664, max_depth=25 ...................\n",
      "[CV] .... max_features=0.8150856380897664, max_depth=25, total=   0.2s\n",
      "[CV] max_features=0.8150856380897664, max_depth=25 ...................\n",
      "[CV] .... max_features=0.8150856380897664, max_depth=25, total=   0.2s\n",
      "[CV] max_features=0.8150856380897664, max_depth=25 ...................\n",
      "[CV] .... max_features=0.8150856380897664, max_depth=25, total=   0.2s\n",
      "[CV] max_features=0.8150856380897664, max_depth=25 ...................\n",
      "[CV] .... max_features=0.8150856380897664, max_depth=25, total=   0.2s\n"
     ]
    },
    {
     "name": "stderr",
     "output_type": "stream",
     "text": [
      "[Parallel(n_jobs=1)]: Done  50 out of  50 | elapsed:    8.7s finished\n"
     ]
    }
   ],
   "source": [
    "from sklearn.model_selection import RandomizedSearchCV\n",
    "\n",
    "results=[]\n",
    "for estimator in estimators :\n",
    "    result =[] \n",
    "    max_features = np.random.uniform(0.2,1.0,10)\n",
    "    max_depth = np.random.randint(5,30,10)\n",
    "    \n",
    "\n",
    "    param_distributions = {\"max_depth\" : max_depth,\n",
    "                          \"max_features\" : max_features }\n",
    "    \n",
    "    regressor =RandomizedSearchCV(estimator, \n",
    "                                 param_distributions,\n",
    "                                 n_iter = 10,\n",
    "                                 scoring = None,\n",
    "                                 cv =5,\n",
    "                                 verbose =2,\n",
    "                                 random_state =42)\n",
    "    \n",
    "    regressor.fit(X_train, y_train)\n",
    "    \n",
    "    result.append(estimator.__class__.__name__)\n",
    "    result.append(regressor.best_params_)\n",
    "    result.append(regressor.best_estimator_)\n",
    "    result.append(regressor.best_score_)\n",
    "    result.append(regressor.cv_results_)\n",
    "    results.append(result)"
   ]
  },
  {
   "cell_type": "code",
   "execution_count": 148,
   "metadata": {},
   "outputs": [
    {
     "data": {
      "text/html": [
       "<div>\n",
       "<style scoped>\n",
       "    .dataframe tbody tr th:only-of-type {\n",
       "        vertical-align: middle;\n",
       "    }\n",
       "\n",
       "    .dataframe tbody tr th {\n",
       "        vertical-align: top;\n",
       "    }\n",
       "\n",
       "    .dataframe thead th {\n",
       "        text-align: right;\n",
       "    }\n",
       "</style>\n",
       "<table border=\"1\" class=\"dataframe\">\n",
       "  <thead>\n",
       "    <tr style=\"text-align: right;\">\n",
       "      <th></th>\n",
       "      <th>model</th>\n",
       "      <th>params</th>\n",
       "      <th>estimator</th>\n",
       "      <th>score</th>\n",
       "      <th>cv_result</th>\n",
       "    </tr>\n",
       "  </thead>\n",
       "  <tbody>\n",
       "    <tr>\n",
       "      <th>0</th>\n",
       "      <td>DecisionTreeRegressor</td>\n",
       "      <td>{'max_features': 0.40129865284424854, 'max_dep...</td>\n",
       "      <td>DecisionTreeRegressor(max_depth=6, max_feature...</td>\n",
       "      <td>0.155152</td>\n",
       "      <td>{'mean_fit_time': [0.0032160282135009766, 0.00...</td>\n",
       "    </tr>\n",
       "    <tr>\n",
       "      <th>1</th>\n",
       "      <td>RandomForestRegressor</td>\n",
       "      <td>{'max_features': 0.6025276005176947, 'max_dept...</td>\n",
       "      <td>(DecisionTreeRegressor(max_depth=19, max_featu...</td>\n",
       "      <td>0.337133</td>\n",
       "      <td>{'mean_fit_time': [0.138014554977417, 0.142623...</td>\n",
       "    </tr>\n",
       "    <tr>\n",
       "      <th>2</th>\n",
       "      <td>GradientBoostingRegressor</td>\n",
       "      <td>{'max_features': 0.2608664641024279, 'max_dept...</td>\n",
       "      <td>([DecisionTreeRegressor(criterion='friedman_ms...</td>\n",
       "      <td>0.288348</td>\n",
       "      <td>{'mean_fit_time': [0.14880332946777344, 0.0865...</td>\n",
       "    </tr>\n",
       "  </tbody>\n",
       "</table>\n",
       "</div>"
      ],
      "text/plain": [
       "                       model  \\\n",
       "0      DecisionTreeRegressor   \n",
       "1      RandomForestRegressor   \n",
       "2  GradientBoostingRegressor   \n",
       "\n",
       "                                              params  \\\n",
       "0  {'max_features': 0.40129865284424854, 'max_dep...   \n",
       "1  {'max_features': 0.6025276005176947, 'max_dept...   \n",
       "2  {'max_features': 0.2608664641024279, 'max_dept...   \n",
       "\n",
       "                                           estimator     score  \\\n",
       "0  DecisionTreeRegressor(max_depth=6, max_feature...  0.155152   \n",
       "1  (DecisionTreeRegressor(max_depth=19, max_featu...  0.337133   \n",
       "2  ([DecisionTreeRegressor(criterion='friedman_ms...  0.288348   \n",
       "\n",
       "                                           cv_result  \n",
       "0  {'mean_fit_time': [0.0032160282135009766, 0.00...  \n",
       "1  {'mean_fit_time': [0.138014554977417, 0.142623...  \n",
       "2  {'mean_fit_time': [0.14880332946777344, 0.0865...  "
      ]
     },
     "execution_count": 148,
     "metadata": {},
     "output_type": "execute_result"
    }
   ],
   "source": [
    "df_cv =pd.DataFrame(results)\n",
    "df_cv.columns = [\"model\",\"params\",\"estimator\",\"score\",\"cv_result\"]\n",
    "df_cv"
   ]
  },
  {
   "cell_type": "code",
   "execution_count": 149,
   "metadata": {},
   "outputs": [
    {
     "data": {
      "text/plain": [
       "RandomForestRegressor(max_depth=19, max_features=0.6025276005176947,\n",
       "                      random_state=42)"
      ]
     },
     "execution_count": 149,
     "metadata": {},
     "output_type": "execute_result"
    }
   ],
   "source": [
    "#RandomForestRegressor가 score가 가장 높다.\n",
    "best_estimator = df_cv.loc[1,\"estimator\"]\n",
    "best_estimator"
   ]
  },
  {
   "cell_type": "code",
   "execution_count": 150,
   "metadata": {},
   "outputs": [
    {
     "data": {
      "text/plain": [
       "RandomForestRegressor(max_depth=19, max_features=0.6025276005176947,\n",
       "                      random_state=42)"
      ]
     },
     "execution_count": 150,
     "metadata": {},
     "output_type": "execute_result"
    }
   ],
   "source": [
    "#다시 학습시킨다.\n",
    "best_estimator.fit(X_train, y_train)"
   ]
  },
  {
   "cell_type": "code",
   "execution_count": 151,
   "metadata": {},
   "outputs": [
    {
     "name": "stderr",
     "output_type": "stream",
     "text": [
      "[Parallel(n_jobs=-1)]: Using backend LokyBackend with 8 concurrent workers.\n",
      "[Parallel(n_jobs=-1)]: Done   2 out of   5 | elapsed:    0.4s remaining:    0.7s\n",
      "[Parallel(n_jobs=-1)]: Done   5 out of   5 | elapsed:    4.4s remaining:    0.0s\n",
      "[Parallel(n_jobs=-1)]: Done   5 out of   5 | elapsed:    4.4s finished\n"
     ]
    },
    {
     "data": {
      "text/plain": [
       "array([ 50.12, 151.05,  93.4 , 146.56, 182.51])"
      ]
     },
     "execution_count": 151,
     "metadata": {},
     "output_type": "execute_result"
    }
   ],
   "source": [
    "#cross_validation으로 오차를 측정한다.\n",
    "from sklearn.model_selection import cross_val_predict\n",
    "\n",
    "y_predict = cross_val_predict(best_estimator, X_train, y_train, cv= 5, verbose = 2, n_jobs =-1)\n",
    "y_predict[:5]"
   ]
  },
  {
   "cell_type": "code",
   "execution_count": 152,
   "metadata": {},
   "outputs": [
    {
     "name": "stderr",
     "output_type": "stream",
     "text": [
      "C:\\anaconda3\\lib\\site-packages\\seaborn\\_decorators.py:36: FutureWarning: Pass the following variables as keyword args: x, y. From version 0.12, the only valid positional argument will be `data`, and passing other arguments without an explicit keyword will result in an error or misinterpretation.\n",
      "  warnings.warn(\n"
     ]
    },
    {
     "data": {
      "text/plain": [
       "<AxesSubplot:xlabel='Insulin'>"
      ]
     },
     "execution_count": 152,
     "metadata": {},
     "output_type": "execute_result"
    },
    {
     "data": {
      "image/png": "[encoded data removed]",
      "text/plain": [
       "<Figure size 432x288 with 1 Axes>"
      ]
     },
     "metadata": {
      "needs_background": "light"
     },
     "output_type": "display_data"
    }
   ],
   "source": [
    "#회귀선에 값들이 가까워졌다.\n",
    "sns.regplot(y_train,y_predict)"
   ]
  },
  {
   "cell_type": "code",
   "execution_count": 153,
   "metadata": {},
   "outputs": [
    {
     "name": "stderr",
     "output_type": "stream",
     "text": [
      "C:\\anaconda3\\lib\\site-packages\\seaborn\\distributions.py:2557: FutureWarning: `distplot` is a deprecated function and will be removed in a future version. Please adapt your code to use either `displot` (a figure-level function with similar flexibility) or `kdeplot` (an axes-level function for kernel density plots).\n",
      "  warnings.warn(msg, FutureWarning)\n",
      "C:\\anaconda3\\lib\\site-packages\\seaborn\\distributions.py:2557: FutureWarning: `distplot` is a deprecated function and will be removed in a future version. Please adapt your code to use either `displot` (a figure-level function with similar flexibility) or `kdeplot` (an axes-level function for kernel density plots).\n",
      "  warnings.warn(msg, FutureWarning)\n"
     ]
    },
    {
     "data": {
      "text/plain": [
       "<AxesSubplot:xlabel='Insulin', ylabel='Density'>"
      ]
     },
     "execution_count": 153,
     "metadata": {},
     "output_type": "execute_result"
    },
    {
     "data": {
      "image/png": "[encoded data removed]",
      "text/plain": [
       "<Figure size 432x288 with 1 Axes>"
      ]
     },
     "metadata": {
      "needs_background": "light"
     },
     "output_type": "display_data"
    }
   ],
   "source": [
    "#분포의 차이는 보인다.\n",
    "sns.distplot(y_train, hist =False, label='train')\n",
    "sns.distplot(y_predict, hist= False,label=\"predict\")"
   ]
  },
  {
   "cell_type": "code",
   "execution_count": 154,
   "metadata": {},
   "outputs": [
    {
     "data": {
      "text/plain": [
       "44.89658252895752"
      ]
     },
     "execution_count": 154,
     "metadata": {},
     "output_type": "execute_result"
    }
   ],
   "source": [
    "error= abs(y_train - y_predict)\n",
    "error.mean()"
   ]
  },
  {
   "cell_type": "code",
   "execution_count": 155,
   "metadata": {},
   "outputs": [
    {
     "name": "stderr",
     "output_type": "stream",
     "text": [
      "C:\\anaconda3\\lib\\site-packages\\seaborn\\distributions.py:2557: FutureWarning: `distplot` is a deprecated function and will be removed in a future version. Please adapt your code to use either `displot` (a figure-level function with similar flexibility) or `histplot` (an axes-level function for histograms).\n",
      "  warnings.warn(msg, FutureWarning)\n"
     ]
    },
    {
     "data": {
      "text/plain": [
       "<AxesSubplot:xlabel='Insulin', ylabel='Density'>"
      ]
     },
     "execution_count": 155,
     "metadata": {},
     "output_type": "execute_result"
    },
    {
     "data": {
      "image/png": "[encoded data removed]",
      "text/plain": [
       "<Figure size 432x288 with 1 Axes>"
      ]
     },
     "metadata": {
      "needs_background": "light"
     },
     "output_type": "display_data"
    }
   ],
   "source": [
    "#오류차이가 적게 나는 부분에 데이터가 몰려있는것을 확인 할 수 있다.\n",
    "sns.distplot(error)"
   ]
  },
  {
   "cell_type": "code",
   "execution_count": 156,
   "metadata": {},
   "outputs": [
    {
     "data": {
      "text/plain": [
       "count    370.000000\n",
       "mean      44.896583\n",
       "std       39.625061\n",
       "min        0.010000\n",
       "25%       13.745000\n",
       "50%       36.095000\n",
       "75%       67.102500\n",
       "max      228.330000\n",
       "Name: Insulin, dtype: float64"
      ]
     },
     "execution_count": 156,
     "metadata": {},
     "output_type": "execute_result"
    }
   ],
   "source": [
    "error.describe()"
   ]
  },
  {
   "cell_type": "markdown",
   "metadata": {},
   "source": [
    "#### MAE = Mean absolutely Error"
   ]
  },
  {
   "cell_type": "code",
   "execution_count": 157,
   "metadata": {},
   "outputs": [
    {
     "data": {
      "text/plain": [
       "44.89658252895752"
      ]
     },
     "execution_count": 157,
     "metadata": {},
     "output_type": "execute_result"
    }
   ],
   "source": [
    "# 86\n",
    "# 77 (600이상의 이상치 제거)\n",
    "# 62 (이상치 제거)\n",
    "# 44 - RandomSearchCV\n",
    "error = abs(y_train- y_predict)\n",
    "error.mean()"
   ]
  },
  {
   "cell_type": "code",
   "execution_count": 158,
   "metadata": {},
   "outputs": [
    {
     "name": "stderr",
     "output_type": "stream",
     "text": [
      "C:\\anaconda3\\lib\\site-packages\\seaborn\\distributions.py:2557: FutureWarning: `distplot` is a deprecated function and will be removed in a future version. Please adapt your code to use either `displot` (a figure-level function with similar flexibility) or `histplot` (an axes-level function for histograms).\n",
      "  warnings.warn(msg, FutureWarning)\n"
     ]
    },
    {
     "data": {
      "text/plain": [
       "<AxesSubplot:xlabel='Insulin', ylabel='Density'>"
      ]
     },
     "execution_count": 158,
     "metadata": {},
     "output_type": "execute_result"
    },
    {
     "data": {
      "image/png": "[encoded data removed]",
      "text/plain": [
       "<Figure size 432x288 with 1 Axes>"
      ]
     },
     "metadata": {
      "needs_background": "light"
     },
     "output_type": "display_data"
    }
   ],
   "source": [
    "sns.distplot(error)"
   ]
  },
  {
   "cell_type": "code",
   "execution_count": 159,
   "metadata": {},
   "outputs": [
    {
     "data": {
      "text/plain": [
       "count    370.000000\n",
       "mean      44.896583\n",
       "std       39.625061\n",
       "min        0.010000\n",
       "25%       13.745000\n",
       "50%       36.095000\n",
       "75%       67.102500\n",
       "max      228.330000\n",
       "Name: Insulin, dtype: float64"
      ]
     },
     "execution_count": 159,
     "metadata": {},
     "output_type": "execute_result"
    }
   ],
   "source": [
    "error.describe()"
   ]
  },
  {
   "cell_type": "markdown",
   "metadata": {},
   "source": [
    "#### RMSE = Root Mean Squared Error"
   ]
  },
  {
   "cell_type": "code",
   "execution_count": 160,
   "metadata": {},
   "outputs": [
    {
     "data": {
      "text/plain": [
       "59.84651184736266"
      ]
     },
     "execution_count": 160,
     "metadata": {},
     "output_type": "execute_result"
    }
   ],
   "source": [
    "#RMSE는 표준편차를 구하는 식과 유사하다.\n",
    "# 126.895\n",
    "# 114.077 (600이상이 이상치 제거)\n",
    "# 84.111 (이상치 제거)\n",
    "# 59.786 (RandomSearchCV)\n",
    "np.sqrt(((y_train - y_predict)**2).mean())"
   ]
  },
  {
   "cell_type": "code",
   "execution_count": 161,
   "metadata": {
    "scrolled": true
   },
   "outputs": [],
   "source": [
    "#DecisionTree 시각화\n",
    "\n",
    "#from sklearn.tree import plot_tree\n",
    "\n",
    "#plt.figure.Figure(figsize=(20, 20))\n",
    "#tree = plot_tree(model, feature_names = feature_names, filled=True, fontsize=10)"
   ]
  },
  {
   "cell_type": "code",
   "execution_count": 162,
   "metadata": {},
   "outputs": [
    {
     "data": {
      "text/plain": [
       "array([0.04858345, 0.44656558, 0.07097731, 0.05588694, 0.16087336,\n",
       "       0.09607089, 0.11025783, 0.01078464])"
      ]
     },
     "execution_count": 162,
     "metadata": {},
     "output_type": "execute_result"
    }
   ],
   "source": [
    "model.feature_importances_"
   ]
  },
  {
   "cell_type": "code",
   "execution_count": 163,
   "metadata": {},
   "outputs": [
    {
     "data": {
      "text/plain": [
       "<AxesSubplot:>"
      ]
     },
     "execution_count": 163,
     "metadata": {},
     "output_type": "execute_result"
    },
    {
     "data": {
      "image/png": "[encoded data removed]",
      "text/plain": [
       "<Figure size 432x288 with 1 Axes>"
      ]
     },
     "metadata": {
      "needs_background": "light"
     },
     "output_type": "display_data"
    }
   ],
   "source": [
    "sns.barplot(x= model.feature_importances_, y= feature_names)"
   ]
  },
  {
   "cell_type": "markdown",
   "metadata": {},
   "source": [
    "#### 예측"
   ]
  },
  {
   "cell_type": "code",
   "execution_count": 164,
   "metadata": {},
   "outputs": [
    {
     "data": {
      "text/plain": [
       "array([168.,  37., 130., 215., 165.])"
      ]
     },
     "execution_count": 164,
     "metadata": {},
     "output_type": "execute_result"
    }
   ],
   "source": [
    "y_test = model.predict(X_test)\n",
    "y_test[:5]"
   ]
  },
  {
   "cell_type": "markdown",
   "metadata": {},
   "source": [
    "#### 예측의 결과값 분석"
   ]
  },
  {
   "cell_type": "markdown",
   "metadata": {},
   "source": [
    " - 정답값(y_test)가 없기 때문에 y_train의 정보들과 비교해서 잘 예측했는지 확인한다."
   ]
  },
  {
   "cell_type": "code",
   "execution_count": 165,
   "metadata": {},
   "outputs": [
    {
     "data": {
      "text/html": [
       "<div>\n",
       "<style scoped>\n",
       "    .dataframe tbody tr th:only-of-type {\n",
       "        vertical-align: middle;\n",
       "    }\n",
       "\n",
       "    .dataframe tbody tr th {\n",
       "        vertical-align: top;\n",
       "    }\n",
       "\n",
       "    .dataframe thead th {\n",
       "        text-align: right;\n",
       "    }\n",
       "</style>\n",
       "<table border=\"1\" class=\"dataframe\">\n",
       "  <thead>\n",
       "    <tr style=\"text-align: right;\">\n",
       "      <th></th>\n",
       "      <th>count</th>\n",
       "      <th>mean</th>\n",
       "      <th>std</th>\n",
       "      <th>min</th>\n",
       "      <th>25%</th>\n",
       "      <th>50%</th>\n",
       "      <th>75%</th>\n",
       "      <th>max</th>\n",
       "    </tr>\n",
       "    <tr>\n",
       "      <th>Outcome</th>\n",
       "      <th></th>\n",
       "      <th></th>\n",
       "      <th></th>\n",
       "      <th></th>\n",
       "      <th></th>\n",
       "      <th></th>\n",
       "      <th></th>\n",
       "      <th></th>\n",
       "    </tr>\n",
       "  </thead>\n",
       "  <tbody>\n",
       "    <tr>\n",
       "      <th>0</th>\n",
       "      <td>254.0</td>\n",
       "      <td>115.917323</td>\n",
       "      <td>69.844697</td>\n",
       "      <td>15.0</td>\n",
       "      <td>64.25</td>\n",
       "      <td>100.0</td>\n",
       "      <td>151.00</td>\n",
       "      <td>342.0</td>\n",
       "    </tr>\n",
       "    <tr>\n",
       "      <th>1</th>\n",
       "      <td>116.0</td>\n",
       "      <td>169.163793</td>\n",
       "      <td>70.789454</td>\n",
       "      <td>14.0</td>\n",
       "      <td>124.25</td>\n",
       "      <td>160.0</td>\n",
       "      <td>207.75</td>\n",
       "      <td>360.0</td>\n",
       "    </tr>\n",
       "  </tbody>\n",
       "</table>\n",
       "</div>"
      ],
      "text/plain": [
       "         count        mean        std   min     25%    50%     75%    max\n",
       "Outcome                                                                  \n",
       "0        254.0  115.917323  69.844697  15.0   64.25  100.0  151.00  342.0\n",
       "1        116.0  169.163793  70.789454  14.0  124.25  160.0  207.75  360.0"
      ]
     },
     "execution_count": 165,
     "metadata": {},
     "output_type": "execute_result"
    }
   ],
   "source": [
    "train.groupby('Outcome')['Insulin'].describe()"
   ]
  },
  {
   "cell_type": "code",
   "execution_count": 166,
   "metadata": {},
   "outputs": [],
   "source": [
    "test['Insulin'] =y_test"
   ]
  },
  {
   "cell_type": "code",
   "execution_count": 167,
   "metadata": {},
   "outputs": [
    {
     "data": {
      "text/html": [
       "<div>\n",
       "<style scoped>\n",
       "    .dataframe tbody tr th:only-of-type {\n",
       "        vertical-align: middle;\n",
       "    }\n",
       "\n",
       "    .dataframe tbody tr th {\n",
       "        vertical-align: top;\n",
       "    }\n",
       "\n",
       "    .dataframe thead th {\n",
       "        text-align: right;\n",
       "    }\n",
       "</style>\n",
       "<table border=\"1\" class=\"dataframe\">\n",
       "  <thead>\n",
       "    <tr style=\"text-align: right;\">\n",
       "      <th></th>\n",
       "      <th>count</th>\n",
       "      <th>mean</th>\n",
       "      <th>std</th>\n",
       "      <th>min</th>\n",
       "      <th>25%</th>\n",
       "      <th>50%</th>\n",
       "      <th>75%</th>\n",
       "      <th>max</th>\n",
       "    </tr>\n",
       "    <tr>\n",
       "      <th>Outcome</th>\n",
       "      <th></th>\n",
       "      <th></th>\n",
       "      <th></th>\n",
       "      <th></th>\n",
       "      <th></th>\n",
       "      <th></th>\n",
       "      <th></th>\n",
       "      <th></th>\n",
       "    </tr>\n",
       "  </thead>\n",
       "  <tbody>\n",
       "    <tr>\n",
       "      <th>0</th>\n",
       "      <td>236.0</td>\n",
       "      <td>124.906780</td>\n",
       "      <td>80.878263</td>\n",
       "      <td>18.0</td>\n",
       "      <td>64.00</td>\n",
       "      <td>97.5</td>\n",
       "      <td>155.0</td>\n",
       "      <td>335.0</td>\n",
       "    </tr>\n",
       "    <tr>\n",
       "      <th>1</th>\n",
       "      <td>138.0</td>\n",
       "      <td>163.724638</td>\n",
       "      <td>83.718835</td>\n",
       "      <td>14.0</td>\n",
       "      <td>96.75</td>\n",
       "      <td>145.0</td>\n",
       "      <td>215.0</td>\n",
       "      <td>328.0</td>\n",
       "    </tr>\n",
       "  </tbody>\n",
       "</table>\n",
       "</div>"
      ],
      "text/plain": [
       "         count        mean        std   min    25%    50%    75%    max\n",
       "Outcome                                                                \n",
       "0        236.0  124.906780  80.878263  18.0  64.00   97.5  155.0  335.0\n",
       "1        138.0  163.724638  83.718835  14.0  96.75  145.0  215.0  328.0"
      ]
     },
     "execution_count": 167,
     "metadata": {},
     "output_type": "execute_result"
    }
   ],
   "source": [
    "test.groupby('Outcome')['Insulin'].describe()"
   ]
  },
  {
   "cell_type": "code",
   "execution_count": 168,
   "metadata": {},
   "outputs": [
    {
     "data": {
      "text/plain": [
       "<AxesSubplot:xlabel='Outcome', ylabel='Insulin'>"
      ]
     },
     "execution_count": 168,
     "metadata": {},
     "output_type": "execute_result"
    },
    {
     "data": {
      "image/png": "[encoded data removed]",
      "text/plain": [
       "<Figure size 432x288 with 1 Axes>"
      ]
     },
     "metadata": {
      "needs_background": "light"
     },
     "output_type": "display_data"
    }
   ],
   "source": [
    "#train데이터 인슐린 평균값을 시각화\n",
    "sns.barplot(data=train, x='Outcome',y='Insulin')"
   ]
  },
  {
   "cell_type": "code",
   "execution_count": 169,
   "metadata": {},
   "outputs": [
    {
     "data": {
      "text/plain": [
       "<AxesSubplot:xlabel='Outcome', ylabel='Insulin'>"
      ]
     },
     "execution_count": 169,
     "metadata": {},
     "output_type": "execute_result"
    },
    {
     "data": {
      "image/png": "[encoded data removed]",
      "text/plain": [
       "<Figure size 432x288 with 1 Axes>"
      ]
     },
     "metadata": {
      "needs_background": "light"
     },
     "output_type": "display_data"
    }
   ],
   "source": [
    "#test데이터 인슐린 평균값 시각화\n",
    "sns.barplot(data= test, x='Outcome', y='Insulin')"
   ]
  },
  {
   "cell_type": "markdown",
   "metadata": {},
   "source": [
    "## csv파일로 인슐린 예측 결과 저장하기"
   ]
  },
  {
   "cell_type": "code",
   "execution_count": 170,
   "metadata": {},
   "outputs": [
    {
     "data": {
      "text/plain": [
       "0      0\n",
       "1      0\n",
       "2      0\n",
       "5      0\n",
       "7      0\n",
       "      ..\n",
       "761    0\n",
       "762    0\n",
       "764    0\n",
       "766    0\n",
       "767    0\n",
       "Name: Insulin, Length: 374, dtype: int64"
      ]
     },
     "execution_count": 170,
     "metadata": {},
     "output_type": "execute_result"
    }
   ],
   "source": [
    "df.loc[df['Insulin']==0,'Insulin']"
   ]
  },
  {
   "cell_type": "code",
   "execution_count": 171,
   "metadata": {},
   "outputs": [
    {
     "data": {
      "text/plain": [
       "0      168.0\n",
       "1       37.0\n",
       "2      130.0\n",
       "5      215.0\n",
       "7      165.0\n",
       "       ...  \n",
       "761    328.0\n",
       "762     94.0\n",
       "764    325.0\n",
       "766     22.0\n",
       "767     88.0\n",
       "Name: Insulin, Length: 374, dtype: float64"
      ]
     },
     "execution_count": 171,
     "metadata": {},
     "output_type": "execute_result"
    }
   ],
   "source": [
    "test['Insulin']"
   ]
  },
  {
   "cell_type": "code",
   "execution_count": 172,
   "metadata": {},
   "outputs": [],
   "source": [
    "\n",
    "\n",
    "df.loc[df['Insulin']==0,'Insulin'] =test['Insulin']"
   ]
  },
  {
   "cell_type": "code",
   "execution_count": 173,
   "metadata": {},
   "outputs": [],
   "source": [
    "df.to_csv(\"./Data/diabetes_fill_insulin.csv\",index=False)"
   ]
  },
  {
   "cell_type": "code",
   "execution_count": 174,
   "metadata": {},
   "outputs": [
    {
     "data": {
      "text/html": [
       "<div>\n",
       "<style scoped>\n",
       "    .dataframe tbody tr th:only-of-type {\n",
       "        vertical-align: middle;\n",
       "    }\n",
       "\n",
       "    .dataframe tbody tr th {\n",
       "        vertical-align: top;\n",
       "    }\n",
       "\n",
       "    .dataframe thead th {\n",
       "        text-align: right;\n",
       "    }\n",
       "</style>\n",
       "<table border=\"1\" class=\"dataframe\">\n",
       "  <thead>\n",
       "    <tr style=\"text-align: right;\">\n",
       "      <th></th>\n",
       "      <th>Pregnancies</th>\n",
       "      <th>Glucose</th>\n",
       "      <th>BloodPressure</th>\n",
       "      <th>SkinThickness</th>\n",
       "      <th>Insulin</th>\n",
       "      <th>BMI</th>\n",
       "      <th>DiabetesPedigreeFunction</th>\n",
       "      <th>Age</th>\n",
       "      <th>Outcome</th>\n",
       "    </tr>\n",
       "  </thead>\n",
       "  <tbody>\n",
       "    <tr>\n",
       "      <th>0</th>\n",
       "      <td>6</td>\n",
       "      <td>148</td>\n",
       "      <td>72</td>\n",
       "      <td>35</td>\n",
       "      <td>168.0</td>\n",
       "      <td>33.6</td>\n",
       "      <td>0.627</td>\n",
       "      <td>50</td>\n",
       "      <td>1</td>\n",
       "    </tr>\n",
       "    <tr>\n",
       "      <th>1</th>\n",
       "      <td>1</td>\n",
       "      <td>85</td>\n",
       "      <td>66</td>\n",
       "      <td>29</td>\n",
       "      <td>37.0</td>\n",
       "      <td>26.6</td>\n",
       "      <td>0.351</td>\n",
       "      <td>31</td>\n",
       "      <td>0</td>\n",
       "    </tr>\n",
       "    <tr>\n",
       "      <th>2</th>\n",
       "      <td>8</td>\n",
       "      <td>183</td>\n",
       "      <td>64</td>\n",
       "      <td>0</td>\n",
       "      <td>130.0</td>\n",
       "      <td>23.3</td>\n",
       "      <td>0.672</td>\n",
       "      <td>32</td>\n",
       "      <td>1</td>\n",
       "    </tr>\n",
       "    <tr>\n",
       "      <th>3</th>\n",
       "      <td>1</td>\n",
       "      <td>89</td>\n",
       "      <td>66</td>\n",
       "      <td>23</td>\n",
       "      <td>94.0</td>\n",
       "      <td>28.1</td>\n",
       "      <td>0.167</td>\n",
       "      <td>21</td>\n",
       "      <td>0</td>\n",
       "    </tr>\n",
       "    <tr>\n",
       "      <th>4</th>\n",
       "      <td>0</td>\n",
       "      <td>137</td>\n",
       "      <td>40</td>\n",
       "      <td>35</td>\n",
       "      <td>168.0</td>\n",
       "      <td>43.1</td>\n",
       "      <td>2.288</td>\n",
       "      <td>33</td>\n",
       "      <td>1</td>\n",
       "    </tr>\n",
       "    <tr>\n",
       "      <th>...</th>\n",
       "      <td>...</td>\n",
       "      <td>...</td>\n",
       "      <td>...</td>\n",
       "      <td>...</td>\n",
       "      <td>...</td>\n",
       "      <td>...</td>\n",
       "      <td>...</td>\n",
       "      <td>...</td>\n",
       "      <td>...</td>\n",
       "    </tr>\n",
       "    <tr>\n",
       "      <th>763</th>\n",
       "      <td>10</td>\n",
       "      <td>101</td>\n",
       "      <td>76</td>\n",
       "      <td>48</td>\n",
       "      <td>180.0</td>\n",
       "      <td>32.9</td>\n",
       "      <td>0.171</td>\n",
       "      <td>63</td>\n",
       "      <td>0</td>\n",
       "    </tr>\n",
       "    <tr>\n",
       "      <th>764</th>\n",
       "      <td>2</td>\n",
       "      <td>122</td>\n",
       "      <td>70</td>\n",
       "      <td>27</td>\n",
       "      <td>325.0</td>\n",
       "      <td>36.8</td>\n",
       "      <td>0.340</td>\n",
       "      <td>27</td>\n",
       "      <td>0</td>\n",
       "    </tr>\n",
       "    <tr>\n",
       "      <th>765</th>\n",
       "      <td>5</td>\n",
       "      <td>121</td>\n",
       "      <td>72</td>\n",
       "      <td>23</td>\n",
       "      <td>112.0</td>\n",
       "      <td>26.2</td>\n",
       "      <td>0.245</td>\n",
       "      <td>30</td>\n",
       "      <td>0</td>\n",
       "    </tr>\n",
       "    <tr>\n",
       "      <th>766</th>\n",
       "      <td>1</td>\n",
       "      <td>126</td>\n",
       "      <td>60</td>\n",
       "      <td>0</td>\n",
       "      <td>22.0</td>\n",
       "      <td>30.1</td>\n",
       "      <td>0.349</td>\n",
       "      <td>47</td>\n",
       "      <td>1</td>\n",
       "    </tr>\n",
       "    <tr>\n",
       "      <th>767</th>\n",
       "      <td>1</td>\n",
       "      <td>93</td>\n",
       "      <td>70</td>\n",
       "      <td>31</td>\n",
       "      <td>88.0</td>\n",
       "      <td>30.4</td>\n",
       "      <td>0.315</td>\n",
       "      <td>23</td>\n",
       "      <td>0</td>\n",
       "    </tr>\n",
       "  </tbody>\n",
       "</table>\n",
       "<p>768 rows × 9 columns</p>\n",
       "</div>"
      ],
      "text/plain": [
       "     Pregnancies  Glucose  BloodPressure  SkinThickness  Insulin   BMI  \\\n",
       "0              6      148             72             35    168.0  33.6   \n",
       "1              1       85             66             29     37.0  26.6   \n",
       "2              8      183             64              0    130.0  23.3   \n",
       "3              1       89             66             23     94.0  28.1   \n",
       "4              0      137             40             35    168.0  43.1   \n",
       "..           ...      ...            ...            ...      ...   ...   \n",
       "763           10      101             76             48    180.0  32.9   \n",
       "764            2      122             70             27    325.0  36.8   \n",
       "765            5      121             72             23    112.0  26.2   \n",
       "766            1      126             60              0     22.0  30.1   \n",
       "767            1       93             70             31     88.0  30.4   \n",
       "\n",
       "     DiabetesPedigreeFunction  Age  Outcome  \n",
       "0                       0.627   50        1  \n",
       "1                       0.351   31        0  \n",
       "2                       0.672   32        1  \n",
       "3                       0.167   21        0  \n",
       "4                       2.288   33        1  \n",
       "..                        ...  ...      ...  \n",
       "763                     0.171   63        0  \n",
       "764                     0.340   27        0  \n",
       "765                     0.245   30        0  \n",
       "766                     0.349   47        1  \n",
       "767                     0.315   23        0  \n",
       "\n",
       "[768 rows x 9 columns]"
      ]
     },
     "execution_count": 174,
     "metadata": {},
     "output_type": "execute_result"
    }
   ],
   "source": [
    "pd.read_csv(\"./Data/diabetes_fill_insulin.csv\")"
   ]
  },
  {
   "cell_type": "code",
   "execution_count": null,
   "metadata": {},
   "outputs": [],
   "source": []
  }
 ],
 "metadata": {
  "kernelspec": {
   "display_name": "Python 3",
   "language": "python",
   "name": "python3"
  },
  "language_info": {
   "codemirror_mode": {
    "name": "ipython",
    "version": 3
   },
   "file_extension": ".py",
   "mimetype": "text/x-python",
   "name": "python",
   "nbconvert_exporter": "python",
   "pygments_lexer": "ipython3",
   "version": "3.8.5"
  }
 },
 "nbformat": 4,
 "nbformat_minor": 4
}
